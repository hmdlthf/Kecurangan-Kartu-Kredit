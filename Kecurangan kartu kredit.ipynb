{
 "cells": [
  {
   "cell_type": "markdown",
   "id": "c09acb7e-2647-487c-a692-73bd7c2bda69",
   "metadata": {
    "id": "0pbG3zwtbPpv"
   },
   "source": [
    "<center><a href=\"https://ibb.co/cJD6pSW\"><img src=\"https://i.ibb.co/y0W6Mcz/cover-depan.jpg\" alt=\"cover-depan\" border=\"0\"></a></center>"
   ]
  },
  {
   "cell_type": "markdown",
   "id": "07ef85c0-20ff-4b17-997d-76fdedd69647",
   "metadata": {
    "id": "IKFeDjB4bPpw"
   },
   "source": [
    "# Kecurangan kartu kredit\n",
    "Mentor: Mega Bagus Herlambang, PhD"
   ]
  },
  {
   "cell_type": "markdown",
   "id": "2f33fa05-f731-4aad-9299-fa3e174216b3",
   "metadata": {},
   "source": [
    "<hr>"
   ]
  },
  {
   "cell_type": "markdown",
   "id": "eae93984-5512-408d-81d3-328e66a30679",
   "metadata": {
    "id": "caf5SsAvbPpx"
   },
   "source": [
    "Kita akan membahas kasus kecurangan kartu kredit untuk memberikan gambaran bagaimana nantinya proses klasifikasi *non-performing loan* bisa dibuat model *machine learning*-nya."
   ]
  },
  {
   "cell_type": "markdown",
   "id": "e8e96162-576b-4234-9092-55bc79cb9ea9",
   "metadata": {},
   "source": [
    "<br>"
   ]
  },
  {
   "cell_type": "markdown",
   "id": "89bb01f3-0005-4554-b092-2577f9486244",
   "metadata": {},
   "source": [
    "## Download data terlebih dahulu\n",
    "Link download dataset: https://bit.ly/39g52lF"
   ]
  },
  {
   "cell_type": "markdown",
   "id": "98cd0c8f-197e-41b9-b042-50f7b1ba325a",
   "metadata": {},
   "source": [
    "<br>"
   ]
  },
  {
   "cell_type": "markdown",
   "id": "de3afce7-4ab0-4ad8-a3ae-ab0c5e55261a",
   "metadata": {},
   "source": [
    "## Menggunakan Neural Network"
   ]
  },
  {
   "cell_type": "code",
   "execution_count": 1,
   "id": "631e3af0-ce15-42d8-a347-a29c5011f74e",
   "metadata": {},
   "outputs": [],
   "source": [
    "# Mengimpor library\n",
    "import pandas as pd\n",
    "import numpy as np\n",
    "import matplotlib.pyplot as plt\n",
    "import seaborn as sns\n",
    "from sklearn.preprocessing import StandardScaler\n",
    "from sklearn.model_selection import train_test_split\n",
    "from keras.models import Sequential\n",
    "from keras.layers import Dense, Dropout\n",
    "from sklearn.metrics import confusion_matrix\n",
    "from sklearn.metrics import classification_report\n",
    "from imblearn.over_sampling import RandomOverSampler\n",
    "from imblearn.under_sampling import RandomUnderSampler\n",
    "from keras.utils.vis_utils import plot_model"
   ]
  },
  {
   "cell_type": "code",
   "execution_count": 2,
   "id": "7af5beb3-3aef-4f1d-b6fc-ffa57af59212",
   "metadata": {},
   "outputs": [],
   "source": [
    "# Membaca data\n",
    "df = pd.read_csv('data_kartu_kredit.csv')"
   ]
  },
  {
   "cell_type": "code",
   "execution_count": 3,
   "id": "385680bc-c4a3-46c5-82e1-8ab0b38c70e2",
   "metadata": {},
   "outputs": [
    {
     "data": {
      "text/html": [
       "<div>\n",
       "<style scoped>\n",
       "    .dataframe tbody tr th:only-of-type {\n",
       "        vertical-align: middle;\n",
       "    }\n",
       "\n",
       "    .dataframe tbody tr th {\n",
       "        vertical-align: top;\n",
       "    }\n",
       "\n",
       "    .dataframe thead th {\n",
       "        text-align: right;\n",
       "    }\n",
       "</style>\n",
       "<table border=\"1\" class=\"dataframe\">\n",
       "  <thead>\n",
       "    <tr style=\"text-align: right;\">\n",
       "      <th></th>\n",
       "      <th>Time</th>\n",
       "      <th>V1</th>\n",
       "      <th>V2</th>\n",
       "      <th>V3</th>\n",
       "      <th>V4</th>\n",
       "      <th>V5</th>\n",
       "      <th>V6</th>\n",
       "      <th>V7</th>\n",
       "      <th>V8</th>\n",
       "      <th>V9</th>\n",
       "      <th>...</th>\n",
       "      <th>V21</th>\n",
       "      <th>V22</th>\n",
       "      <th>V23</th>\n",
       "      <th>V24</th>\n",
       "      <th>V25</th>\n",
       "      <th>V26</th>\n",
       "      <th>V27</th>\n",
       "      <th>V28</th>\n",
       "      <th>Amount</th>\n",
       "      <th>Class</th>\n",
       "    </tr>\n",
       "  </thead>\n",
       "  <tbody>\n",
       "    <tr>\n",
       "      <th>0</th>\n",
       "      <td>0.0</td>\n",
       "      <td>-1.359807</td>\n",
       "      <td>-0.072781</td>\n",
       "      <td>2.536347</td>\n",
       "      <td>1.378155</td>\n",
       "      <td>-0.338321</td>\n",
       "      <td>0.462388</td>\n",
       "      <td>0.239599</td>\n",
       "      <td>0.098698</td>\n",
       "      <td>0.363787</td>\n",
       "      <td>...</td>\n",
       "      <td>-0.018307</td>\n",
       "      <td>0.277838</td>\n",
       "      <td>-0.110474</td>\n",
       "      <td>0.066928</td>\n",
       "      <td>0.128539</td>\n",
       "      <td>-0.189115</td>\n",
       "      <td>0.133558</td>\n",
       "      <td>-0.021053</td>\n",
       "      <td>149.62</td>\n",
       "      <td>0</td>\n",
       "    </tr>\n",
       "    <tr>\n",
       "      <th>1</th>\n",
       "      <td>0.0</td>\n",
       "      <td>1.191857</td>\n",
       "      <td>0.266151</td>\n",
       "      <td>0.166480</td>\n",
       "      <td>0.448154</td>\n",
       "      <td>0.060018</td>\n",
       "      <td>-0.082361</td>\n",
       "      <td>-0.078803</td>\n",
       "      <td>0.085102</td>\n",
       "      <td>-0.255425</td>\n",
       "      <td>...</td>\n",
       "      <td>-0.225775</td>\n",
       "      <td>-0.638672</td>\n",
       "      <td>0.101288</td>\n",
       "      <td>-0.339846</td>\n",
       "      <td>0.167170</td>\n",
       "      <td>0.125895</td>\n",
       "      <td>-0.008983</td>\n",
       "      <td>0.014724</td>\n",
       "      <td>2.69</td>\n",
       "      <td>0</td>\n",
       "    </tr>\n",
       "    <tr>\n",
       "      <th>2</th>\n",
       "      <td>1.0</td>\n",
       "      <td>-1.358354</td>\n",
       "      <td>-1.340163</td>\n",
       "      <td>1.773209</td>\n",
       "      <td>0.379780</td>\n",
       "      <td>-0.503198</td>\n",
       "      <td>1.800499</td>\n",
       "      <td>0.791461</td>\n",
       "      <td>0.247676</td>\n",
       "      <td>-1.514654</td>\n",
       "      <td>...</td>\n",
       "      <td>0.247998</td>\n",
       "      <td>0.771679</td>\n",
       "      <td>0.909412</td>\n",
       "      <td>-0.689281</td>\n",
       "      <td>-0.327642</td>\n",
       "      <td>-0.139097</td>\n",
       "      <td>-0.055353</td>\n",
       "      <td>-0.059752</td>\n",
       "      <td>378.66</td>\n",
       "      <td>0</td>\n",
       "    </tr>\n",
       "    <tr>\n",
       "      <th>3</th>\n",
       "      <td>1.0</td>\n",
       "      <td>-0.966272</td>\n",
       "      <td>-0.185226</td>\n",
       "      <td>1.792993</td>\n",
       "      <td>-0.863291</td>\n",
       "      <td>-0.010309</td>\n",
       "      <td>1.247203</td>\n",
       "      <td>0.237609</td>\n",
       "      <td>0.377436</td>\n",
       "      <td>-1.387024</td>\n",
       "      <td>...</td>\n",
       "      <td>-0.108300</td>\n",
       "      <td>0.005274</td>\n",
       "      <td>-0.190321</td>\n",
       "      <td>-1.175575</td>\n",
       "      <td>0.647376</td>\n",
       "      <td>-0.221929</td>\n",
       "      <td>0.062723</td>\n",
       "      <td>0.061458</td>\n",
       "      <td>123.50</td>\n",
       "      <td>0</td>\n",
       "    </tr>\n",
       "    <tr>\n",
       "      <th>4</th>\n",
       "      <td>2.0</td>\n",
       "      <td>-1.158233</td>\n",
       "      <td>0.877737</td>\n",
       "      <td>1.548718</td>\n",
       "      <td>0.403034</td>\n",
       "      <td>-0.407193</td>\n",
       "      <td>0.095921</td>\n",
       "      <td>0.592941</td>\n",
       "      <td>-0.270533</td>\n",
       "      <td>0.817739</td>\n",
       "      <td>...</td>\n",
       "      <td>-0.009431</td>\n",
       "      <td>0.798278</td>\n",
       "      <td>-0.137458</td>\n",
       "      <td>0.141267</td>\n",
       "      <td>-0.206010</td>\n",
       "      <td>0.502292</td>\n",
       "      <td>0.219422</td>\n",
       "      <td>0.215153</td>\n",
       "      <td>69.99</td>\n",
       "      <td>0</td>\n",
       "    </tr>\n",
       "    <tr>\n",
       "      <th>5</th>\n",
       "      <td>2.0</td>\n",
       "      <td>-0.425966</td>\n",
       "      <td>0.960523</td>\n",
       "      <td>1.141109</td>\n",
       "      <td>-0.168252</td>\n",
       "      <td>0.420987</td>\n",
       "      <td>-0.029728</td>\n",
       "      <td>0.476201</td>\n",
       "      <td>0.260314</td>\n",
       "      <td>-0.568671</td>\n",
       "      <td>...</td>\n",
       "      <td>-0.208254</td>\n",
       "      <td>-0.559825</td>\n",
       "      <td>-0.026398</td>\n",
       "      <td>-0.371427</td>\n",
       "      <td>-0.232794</td>\n",
       "      <td>0.105915</td>\n",
       "      <td>0.253844</td>\n",
       "      <td>0.081080</td>\n",
       "      <td>3.67</td>\n",
       "      <td>0</td>\n",
       "    </tr>\n",
       "    <tr>\n",
       "      <th>6</th>\n",
       "      <td>4.0</td>\n",
       "      <td>1.229658</td>\n",
       "      <td>0.141004</td>\n",
       "      <td>0.045371</td>\n",
       "      <td>1.202613</td>\n",
       "      <td>0.191881</td>\n",
       "      <td>0.272708</td>\n",
       "      <td>-0.005159</td>\n",
       "      <td>0.081213</td>\n",
       "      <td>0.464960</td>\n",
       "      <td>...</td>\n",
       "      <td>-0.167716</td>\n",
       "      <td>-0.270710</td>\n",
       "      <td>-0.154104</td>\n",
       "      <td>-0.780055</td>\n",
       "      <td>0.750137</td>\n",
       "      <td>-0.257237</td>\n",
       "      <td>0.034507</td>\n",
       "      <td>0.005168</td>\n",
       "      <td>4.99</td>\n",
       "      <td>0</td>\n",
       "    </tr>\n",
       "    <tr>\n",
       "      <th>7</th>\n",
       "      <td>7.0</td>\n",
       "      <td>-0.644269</td>\n",
       "      <td>1.417964</td>\n",
       "      <td>1.074380</td>\n",
       "      <td>-0.492199</td>\n",
       "      <td>0.948934</td>\n",
       "      <td>0.428118</td>\n",
       "      <td>1.120631</td>\n",
       "      <td>-3.807864</td>\n",
       "      <td>0.615375</td>\n",
       "      <td>...</td>\n",
       "      <td>1.943465</td>\n",
       "      <td>-1.015455</td>\n",
       "      <td>0.057504</td>\n",
       "      <td>-0.649709</td>\n",
       "      <td>-0.415267</td>\n",
       "      <td>-0.051634</td>\n",
       "      <td>-1.206921</td>\n",
       "      <td>-1.085339</td>\n",
       "      <td>40.80</td>\n",
       "      <td>0</td>\n",
       "    </tr>\n",
       "    <tr>\n",
       "      <th>8</th>\n",
       "      <td>7.0</td>\n",
       "      <td>-0.894286</td>\n",
       "      <td>0.286157</td>\n",
       "      <td>-0.113192</td>\n",
       "      <td>-0.271526</td>\n",
       "      <td>2.669599</td>\n",
       "      <td>3.721818</td>\n",
       "      <td>0.370145</td>\n",
       "      <td>0.851084</td>\n",
       "      <td>-0.392048</td>\n",
       "      <td>...</td>\n",
       "      <td>-0.073425</td>\n",
       "      <td>-0.268092</td>\n",
       "      <td>-0.204233</td>\n",
       "      <td>1.011592</td>\n",
       "      <td>0.373205</td>\n",
       "      <td>-0.384157</td>\n",
       "      <td>0.011747</td>\n",
       "      <td>0.142404</td>\n",
       "      <td>93.20</td>\n",
       "      <td>0</td>\n",
       "    </tr>\n",
       "    <tr>\n",
       "      <th>9</th>\n",
       "      <td>9.0</td>\n",
       "      <td>-0.338262</td>\n",
       "      <td>1.119593</td>\n",
       "      <td>1.044367</td>\n",
       "      <td>-0.222187</td>\n",
       "      <td>0.499361</td>\n",
       "      <td>-0.246761</td>\n",
       "      <td>0.651583</td>\n",
       "      <td>0.069539</td>\n",
       "      <td>-0.736727</td>\n",
       "      <td>...</td>\n",
       "      <td>-0.246914</td>\n",
       "      <td>-0.633753</td>\n",
       "      <td>-0.120794</td>\n",
       "      <td>-0.385050</td>\n",
       "      <td>-0.069733</td>\n",
       "      <td>0.094199</td>\n",
       "      <td>0.246219</td>\n",
       "      <td>0.083076</td>\n",
       "      <td>3.68</td>\n",
       "      <td>0</td>\n",
       "    </tr>\n",
       "    <tr>\n",
       "      <th>10</th>\n",
       "      <td>10.0</td>\n",
       "      <td>1.449044</td>\n",
       "      <td>-1.176339</td>\n",
       "      <td>0.913860</td>\n",
       "      <td>-1.375667</td>\n",
       "      <td>-1.971383</td>\n",
       "      <td>-0.629152</td>\n",
       "      <td>-1.423236</td>\n",
       "      <td>0.048456</td>\n",
       "      <td>-1.720408</td>\n",
       "      <td>...</td>\n",
       "      <td>-0.009302</td>\n",
       "      <td>0.313894</td>\n",
       "      <td>0.027740</td>\n",
       "      <td>0.500512</td>\n",
       "      <td>0.251367</td>\n",
       "      <td>-0.129478</td>\n",
       "      <td>0.042850</td>\n",
       "      <td>0.016253</td>\n",
       "      <td>7.80</td>\n",
       "      <td>0</td>\n",
       "    </tr>\n",
       "    <tr>\n",
       "      <th>11</th>\n",
       "      <td>10.0</td>\n",
       "      <td>0.384978</td>\n",
       "      <td>0.616109</td>\n",
       "      <td>-0.874300</td>\n",
       "      <td>-0.094019</td>\n",
       "      <td>2.924584</td>\n",
       "      <td>3.317027</td>\n",
       "      <td>0.470455</td>\n",
       "      <td>0.538247</td>\n",
       "      <td>-0.558895</td>\n",
       "      <td>...</td>\n",
       "      <td>0.049924</td>\n",
       "      <td>0.238422</td>\n",
       "      <td>0.009130</td>\n",
       "      <td>0.996710</td>\n",
       "      <td>-0.767315</td>\n",
       "      <td>-0.492208</td>\n",
       "      <td>0.042472</td>\n",
       "      <td>-0.054337</td>\n",
       "      <td>9.99</td>\n",
       "      <td>0</td>\n",
       "    </tr>\n",
       "    <tr>\n",
       "      <th>12</th>\n",
       "      <td>10.0</td>\n",
       "      <td>1.249999</td>\n",
       "      <td>-1.221637</td>\n",
       "      <td>0.383930</td>\n",
       "      <td>-1.234899</td>\n",
       "      <td>-1.485419</td>\n",
       "      <td>-0.753230</td>\n",
       "      <td>-0.689405</td>\n",
       "      <td>-0.227487</td>\n",
       "      <td>-2.094011</td>\n",
       "      <td>...</td>\n",
       "      <td>-0.231809</td>\n",
       "      <td>-0.483285</td>\n",
       "      <td>0.084668</td>\n",
       "      <td>0.392831</td>\n",
       "      <td>0.161135</td>\n",
       "      <td>-0.354990</td>\n",
       "      <td>0.026416</td>\n",
       "      <td>0.042422</td>\n",
       "      <td>121.50</td>\n",
       "      <td>0</td>\n",
       "    </tr>\n",
       "    <tr>\n",
       "      <th>13</th>\n",
       "      <td>11.0</td>\n",
       "      <td>1.069374</td>\n",
       "      <td>0.287722</td>\n",
       "      <td>0.828613</td>\n",
       "      <td>2.712520</td>\n",
       "      <td>-0.178398</td>\n",
       "      <td>0.337544</td>\n",
       "      <td>-0.096717</td>\n",
       "      <td>0.115982</td>\n",
       "      <td>-0.221083</td>\n",
       "      <td>...</td>\n",
       "      <td>-0.036876</td>\n",
       "      <td>0.074412</td>\n",
       "      <td>-0.071407</td>\n",
       "      <td>0.104744</td>\n",
       "      <td>0.548265</td>\n",
       "      <td>0.104094</td>\n",
       "      <td>0.021491</td>\n",
       "      <td>0.021293</td>\n",
       "      <td>27.50</td>\n",
       "      <td>0</td>\n",
       "    </tr>\n",
       "    <tr>\n",
       "      <th>14</th>\n",
       "      <td>12.0</td>\n",
       "      <td>-2.791855</td>\n",
       "      <td>-0.327771</td>\n",
       "      <td>1.641750</td>\n",
       "      <td>1.767473</td>\n",
       "      <td>-0.136588</td>\n",
       "      <td>0.807596</td>\n",
       "      <td>-0.422911</td>\n",
       "      <td>-1.907107</td>\n",
       "      <td>0.755713</td>\n",
       "      <td>...</td>\n",
       "      <td>1.151663</td>\n",
       "      <td>0.222182</td>\n",
       "      <td>1.020586</td>\n",
       "      <td>0.028317</td>\n",
       "      <td>-0.232746</td>\n",
       "      <td>-0.235557</td>\n",
       "      <td>-0.164778</td>\n",
       "      <td>-0.030154</td>\n",
       "      <td>58.80</td>\n",
       "      <td>0</td>\n",
       "    </tr>\n",
       "  </tbody>\n",
       "</table>\n",
       "<p>15 rows × 31 columns</p>\n",
       "</div>"
      ],
      "text/plain": [
       "    Time        V1        V2        V3        V4        V5        V6  \\\n",
       "0    0.0 -1.359807 -0.072781  2.536347  1.378155 -0.338321  0.462388   \n",
       "1    0.0  1.191857  0.266151  0.166480  0.448154  0.060018 -0.082361   \n",
       "2    1.0 -1.358354 -1.340163  1.773209  0.379780 -0.503198  1.800499   \n",
       "3    1.0 -0.966272 -0.185226  1.792993 -0.863291 -0.010309  1.247203   \n",
       "4    2.0 -1.158233  0.877737  1.548718  0.403034 -0.407193  0.095921   \n",
       "5    2.0 -0.425966  0.960523  1.141109 -0.168252  0.420987 -0.029728   \n",
       "6    4.0  1.229658  0.141004  0.045371  1.202613  0.191881  0.272708   \n",
       "7    7.0 -0.644269  1.417964  1.074380 -0.492199  0.948934  0.428118   \n",
       "8    7.0 -0.894286  0.286157 -0.113192 -0.271526  2.669599  3.721818   \n",
       "9    9.0 -0.338262  1.119593  1.044367 -0.222187  0.499361 -0.246761   \n",
       "10  10.0  1.449044 -1.176339  0.913860 -1.375667 -1.971383 -0.629152   \n",
       "11  10.0  0.384978  0.616109 -0.874300 -0.094019  2.924584  3.317027   \n",
       "12  10.0  1.249999 -1.221637  0.383930 -1.234899 -1.485419 -0.753230   \n",
       "13  11.0  1.069374  0.287722  0.828613  2.712520 -0.178398  0.337544   \n",
       "14  12.0 -2.791855 -0.327771  1.641750  1.767473 -0.136588  0.807596   \n",
       "\n",
       "          V7        V8        V9  ...       V21       V22       V23       V24  \\\n",
       "0   0.239599  0.098698  0.363787  ... -0.018307  0.277838 -0.110474  0.066928   \n",
       "1  -0.078803  0.085102 -0.255425  ... -0.225775 -0.638672  0.101288 -0.339846   \n",
       "2   0.791461  0.247676 -1.514654  ...  0.247998  0.771679  0.909412 -0.689281   \n",
       "3   0.237609  0.377436 -1.387024  ... -0.108300  0.005274 -0.190321 -1.175575   \n",
       "4   0.592941 -0.270533  0.817739  ... -0.009431  0.798278 -0.137458  0.141267   \n",
       "5   0.476201  0.260314 -0.568671  ... -0.208254 -0.559825 -0.026398 -0.371427   \n",
       "6  -0.005159  0.081213  0.464960  ... -0.167716 -0.270710 -0.154104 -0.780055   \n",
       "7   1.120631 -3.807864  0.615375  ...  1.943465 -1.015455  0.057504 -0.649709   \n",
       "8   0.370145  0.851084 -0.392048  ... -0.073425 -0.268092 -0.204233  1.011592   \n",
       "9   0.651583  0.069539 -0.736727  ... -0.246914 -0.633753 -0.120794 -0.385050   \n",
       "10 -1.423236  0.048456 -1.720408  ... -0.009302  0.313894  0.027740  0.500512   \n",
       "11  0.470455  0.538247 -0.558895  ...  0.049924  0.238422  0.009130  0.996710   \n",
       "12 -0.689405 -0.227487 -2.094011  ... -0.231809 -0.483285  0.084668  0.392831   \n",
       "13 -0.096717  0.115982 -0.221083  ... -0.036876  0.074412 -0.071407  0.104744   \n",
       "14 -0.422911 -1.907107  0.755713  ...  1.151663  0.222182  1.020586  0.028317   \n",
       "\n",
       "         V25       V26       V27       V28  Amount  Class  \n",
       "0   0.128539 -0.189115  0.133558 -0.021053  149.62      0  \n",
       "1   0.167170  0.125895 -0.008983  0.014724    2.69      0  \n",
       "2  -0.327642 -0.139097 -0.055353 -0.059752  378.66      0  \n",
       "3   0.647376 -0.221929  0.062723  0.061458  123.50      0  \n",
       "4  -0.206010  0.502292  0.219422  0.215153   69.99      0  \n",
       "5  -0.232794  0.105915  0.253844  0.081080    3.67      0  \n",
       "6   0.750137 -0.257237  0.034507  0.005168    4.99      0  \n",
       "7  -0.415267 -0.051634 -1.206921 -1.085339   40.80      0  \n",
       "8   0.373205 -0.384157  0.011747  0.142404   93.20      0  \n",
       "9  -0.069733  0.094199  0.246219  0.083076    3.68      0  \n",
       "10  0.251367 -0.129478  0.042850  0.016253    7.80      0  \n",
       "11 -0.767315 -0.492208  0.042472 -0.054337    9.99      0  \n",
       "12  0.161135 -0.354990  0.026416  0.042422  121.50      0  \n",
       "13  0.548265  0.104094  0.021491  0.021293   27.50      0  \n",
       "14 -0.232746 -0.235557 -0.164778 -0.030154   58.80      0  \n",
       "\n",
       "[15 rows x 31 columns]"
      ]
     },
     "execution_count": 3,
     "metadata": {},
     "output_type": "execute_result"
    }
   ],
   "source": [
    "# Melihat 15 baris pertama\n",
    "df.head(15)"
   ]
  },
  {
   "cell_type": "markdown",
   "id": "026d2521-d810-4843-8091-6ae418924a81",
   "metadata": {},
   "source": [
    "Terdapat beberapa kolom:\n",
    "- `Time` menunjukkan waktu transaksi di hari ke berapa. Jika nol artinya dilakukan pada saat awal (hari ke nol).\n",
    "- `V1` sampai dengan `V28` adalah data nasabah yang sudah distandardisasi (berpusat di nilai rataan nol). Hal ini untuk menjaga rahasia data nasabah.\n",
    "- `Amount` adalah nilai transaksi dalam US Dollar.\n",
    "- `Class` adalah label kategori (0/1) di mana 0 menyatakan tidak terjadi kecurangan, smeentara 1 adalah curang. Proporsi angka 1 sangat kecil."
   ]
  },
  {
   "cell_type": "code",
   "execution_count": 4,
   "id": "8f208b54-acde-408d-bd4b-399c3024e32a",
   "metadata": {},
   "outputs": [
    {
     "data": {
      "text/plain": [
       "(284807, 31)"
      ]
     },
     "execution_count": 4,
     "metadata": {},
     "output_type": "execute_result"
    }
   ],
   "source": [
    "# Melihat dimensi datanya\n",
    "df.shape"
   ]
  },
  {
   "cell_type": "markdown",
   "id": "55a8e4d7-7cf0-4923-8e85-5c4576a166ac",
   "metadata": {},
   "source": [
    "Terdapat 284 ribu baris dan 31 kolom."
   ]
  },
  {
   "cell_type": "markdown",
   "id": "9aaae47e-65c5-44b7-92d8-8694d146faaf",
   "metadata": {},
   "source": [
    "Dari semua baris kolom, ada kolom `Amount` yang bentuknya masih data asli. <br>\n",
    "Oleh karena itu kita harus merubahnya menjadi bentuk standar menggunakan `StandardScaler()` dari scikit-learn.\n",
    "\n",
    "Hasil standardisasinya kita simpan ke dalam kolom baru dengan nama `std_amount`."
   ]
  },
  {
   "cell_type": "code",
   "execution_count": 5,
   "id": "9c044e8c-a068-4e61-af1d-1f0cd1e90973",
   "metadata": {},
   "outputs": [],
   "source": [
    "# Melakukan standardisasi untuk kolom `Amount`\n",
    "df['std_amount'] = StandardScaler().fit_transform(df['Amount'].to_numpy().reshape(-1,1))"
   ]
  },
  {
   "cell_type": "code",
   "execution_count": 6,
   "id": "cc563f2b-fbf0-447d-aa2b-11fc822f0013",
   "metadata": {},
   "outputs": [
    {
     "data": {
      "text/html": [
       "<div>\n",
       "<style scoped>\n",
       "    .dataframe tbody tr th:only-of-type {\n",
       "        vertical-align: middle;\n",
       "    }\n",
       "\n",
       "    .dataframe tbody tr th {\n",
       "        vertical-align: top;\n",
       "    }\n",
       "\n",
       "    .dataframe thead th {\n",
       "        text-align: right;\n",
       "    }\n",
       "</style>\n",
       "<table border=\"1\" class=\"dataframe\">\n",
       "  <thead>\n",
       "    <tr style=\"text-align: right;\">\n",
       "      <th></th>\n",
       "      <th>Time</th>\n",
       "      <th>V1</th>\n",
       "      <th>V2</th>\n",
       "      <th>V3</th>\n",
       "      <th>V4</th>\n",
       "      <th>V5</th>\n",
       "      <th>V6</th>\n",
       "      <th>V7</th>\n",
       "      <th>V8</th>\n",
       "      <th>V9</th>\n",
       "      <th>...</th>\n",
       "      <th>V22</th>\n",
       "      <th>V23</th>\n",
       "      <th>V24</th>\n",
       "      <th>V25</th>\n",
       "      <th>V26</th>\n",
       "      <th>V27</th>\n",
       "      <th>V28</th>\n",
       "      <th>Amount</th>\n",
       "      <th>Class</th>\n",
       "      <th>std_amount</th>\n",
       "    </tr>\n",
       "  </thead>\n",
       "  <tbody>\n",
       "    <tr>\n",
       "      <th>0</th>\n",
       "      <td>0.0</td>\n",
       "      <td>-1.359807</td>\n",
       "      <td>-0.072781</td>\n",
       "      <td>2.536347</td>\n",
       "      <td>1.378155</td>\n",
       "      <td>-0.338321</td>\n",
       "      <td>0.462388</td>\n",
       "      <td>0.239599</td>\n",
       "      <td>0.098698</td>\n",
       "      <td>0.363787</td>\n",
       "      <td>...</td>\n",
       "      <td>0.277838</td>\n",
       "      <td>-0.110474</td>\n",
       "      <td>0.066928</td>\n",
       "      <td>0.128539</td>\n",
       "      <td>-0.189115</td>\n",
       "      <td>0.133558</td>\n",
       "      <td>-0.021053</td>\n",
       "      <td>149.62</td>\n",
       "      <td>0</td>\n",
       "      <td>0.244964</td>\n",
       "    </tr>\n",
       "    <tr>\n",
       "      <th>1</th>\n",
       "      <td>0.0</td>\n",
       "      <td>1.191857</td>\n",
       "      <td>0.266151</td>\n",
       "      <td>0.166480</td>\n",
       "      <td>0.448154</td>\n",
       "      <td>0.060018</td>\n",
       "      <td>-0.082361</td>\n",
       "      <td>-0.078803</td>\n",
       "      <td>0.085102</td>\n",
       "      <td>-0.255425</td>\n",
       "      <td>...</td>\n",
       "      <td>-0.638672</td>\n",
       "      <td>0.101288</td>\n",
       "      <td>-0.339846</td>\n",
       "      <td>0.167170</td>\n",
       "      <td>0.125895</td>\n",
       "      <td>-0.008983</td>\n",
       "      <td>0.014724</td>\n",
       "      <td>2.69</td>\n",
       "      <td>0</td>\n",
       "      <td>-0.342475</td>\n",
       "    </tr>\n",
       "    <tr>\n",
       "      <th>2</th>\n",
       "      <td>1.0</td>\n",
       "      <td>-1.358354</td>\n",
       "      <td>-1.340163</td>\n",
       "      <td>1.773209</td>\n",
       "      <td>0.379780</td>\n",
       "      <td>-0.503198</td>\n",
       "      <td>1.800499</td>\n",
       "      <td>0.791461</td>\n",
       "      <td>0.247676</td>\n",
       "      <td>-1.514654</td>\n",
       "      <td>...</td>\n",
       "      <td>0.771679</td>\n",
       "      <td>0.909412</td>\n",
       "      <td>-0.689281</td>\n",
       "      <td>-0.327642</td>\n",
       "      <td>-0.139097</td>\n",
       "      <td>-0.055353</td>\n",
       "      <td>-0.059752</td>\n",
       "      <td>378.66</td>\n",
       "      <td>0</td>\n",
       "      <td>1.160686</td>\n",
       "    </tr>\n",
       "    <tr>\n",
       "      <th>3</th>\n",
       "      <td>1.0</td>\n",
       "      <td>-0.966272</td>\n",
       "      <td>-0.185226</td>\n",
       "      <td>1.792993</td>\n",
       "      <td>-0.863291</td>\n",
       "      <td>-0.010309</td>\n",
       "      <td>1.247203</td>\n",
       "      <td>0.237609</td>\n",
       "      <td>0.377436</td>\n",
       "      <td>-1.387024</td>\n",
       "      <td>...</td>\n",
       "      <td>0.005274</td>\n",
       "      <td>-0.190321</td>\n",
       "      <td>-1.175575</td>\n",
       "      <td>0.647376</td>\n",
       "      <td>-0.221929</td>\n",
       "      <td>0.062723</td>\n",
       "      <td>0.061458</td>\n",
       "      <td>123.50</td>\n",
       "      <td>0</td>\n",
       "      <td>0.140534</td>\n",
       "    </tr>\n",
       "    <tr>\n",
       "      <th>4</th>\n",
       "      <td>2.0</td>\n",
       "      <td>-1.158233</td>\n",
       "      <td>0.877737</td>\n",
       "      <td>1.548718</td>\n",
       "      <td>0.403034</td>\n",
       "      <td>-0.407193</td>\n",
       "      <td>0.095921</td>\n",
       "      <td>0.592941</td>\n",
       "      <td>-0.270533</td>\n",
       "      <td>0.817739</td>\n",
       "      <td>...</td>\n",
       "      <td>0.798278</td>\n",
       "      <td>-0.137458</td>\n",
       "      <td>0.141267</td>\n",
       "      <td>-0.206010</td>\n",
       "      <td>0.502292</td>\n",
       "      <td>0.219422</td>\n",
       "      <td>0.215153</td>\n",
       "      <td>69.99</td>\n",
       "      <td>0</td>\n",
       "      <td>-0.073403</td>\n",
       "    </tr>\n",
       "    <tr>\n",
       "      <th>5</th>\n",
       "      <td>2.0</td>\n",
       "      <td>-0.425966</td>\n",
       "      <td>0.960523</td>\n",
       "      <td>1.141109</td>\n",
       "      <td>-0.168252</td>\n",
       "      <td>0.420987</td>\n",
       "      <td>-0.029728</td>\n",
       "      <td>0.476201</td>\n",
       "      <td>0.260314</td>\n",
       "      <td>-0.568671</td>\n",
       "      <td>...</td>\n",
       "      <td>-0.559825</td>\n",
       "      <td>-0.026398</td>\n",
       "      <td>-0.371427</td>\n",
       "      <td>-0.232794</td>\n",
       "      <td>0.105915</td>\n",
       "      <td>0.253844</td>\n",
       "      <td>0.081080</td>\n",
       "      <td>3.67</td>\n",
       "      <td>0</td>\n",
       "      <td>-0.338556</td>\n",
       "    </tr>\n",
       "    <tr>\n",
       "      <th>6</th>\n",
       "      <td>4.0</td>\n",
       "      <td>1.229658</td>\n",
       "      <td>0.141004</td>\n",
       "      <td>0.045371</td>\n",
       "      <td>1.202613</td>\n",
       "      <td>0.191881</td>\n",
       "      <td>0.272708</td>\n",
       "      <td>-0.005159</td>\n",
       "      <td>0.081213</td>\n",
       "      <td>0.464960</td>\n",
       "      <td>...</td>\n",
       "      <td>-0.270710</td>\n",
       "      <td>-0.154104</td>\n",
       "      <td>-0.780055</td>\n",
       "      <td>0.750137</td>\n",
       "      <td>-0.257237</td>\n",
       "      <td>0.034507</td>\n",
       "      <td>0.005168</td>\n",
       "      <td>4.99</td>\n",
       "      <td>0</td>\n",
       "      <td>-0.333279</td>\n",
       "    </tr>\n",
       "    <tr>\n",
       "      <th>7</th>\n",
       "      <td>7.0</td>\n",
       "      <td>-0.644269</td>\n",
       "      <td>1.417964</td>\n",
       "      <td>1.074380</td>\n",
       "      <td>-0.492199</td>\n",
       "      <td>0.948934</td>\n",
       "      <td>0.428118</td>\n",
       "      <td>1.120631</td>\n",
       "      <td>-3.807864</td>\n",
       "      <td>0.615375</td>\n",
       "      <td>...</td>\n",
       "      <td>-1.015455</td>\n",
       "      <td>0.057504</td>\n",
       "      <td>-0.649709</td>\n",
       "      <td>-0.415267</td>\n",
       "      <td>-0.051634</td>\n",
       "      <td>-1.206921</td>\n",
       "      <td>-1.085339</td>\n",
       "      <td>40.80</td>\n",
       "      <td>0</td>\n",
       "      <td>-0.190107</td>\n",
       "    </tr>\n",
       "    <tr>\n",
       "      <th>8</th>\n",
       "      <td>7.0</td>\n",
       "      <td>-0.894286</td>\n",
       "      <td>0.286157</td>\n",
       "      <td>-0.113192</td>\n",
       "      <td>-0.271526</td>\n",
       "      <td>2.669599</td>\n",
       "      <td>3.721818</td>\n",
       "      <td>0.370145</td>\n",
       "      <td>0.851084</td>\n",
       "      <td>-0.392048</td>\n",
       "      <td>...</td>\n",
       "      <td>-0.268092</td>\n",
       "      <td>-0.204233</td>\n",
       "      <td>1.011592</td>\n",
       "      <td>0.373205</td>\n",
       "      <td>-0.384157</td>\n",
       "      <td>0.011747</td>\n",
       "      <td>0.142404</td>\n",
       "      <td>93.20</td>\n",
       "      <td>0</td>\n",
       "      <td>0.019392</td>\n",
       "    </tr>\n",
       "    <tr>\n",
       "      <th>9</th>\n",
       "      <td>9.0</td>\n",
       "      <td>-0.338262</td>\n",
       "      <td>1.119593</td>\n",
       "      <td>1.044367</td>\n",
       "      <td>-0.222187</td>\n",
       "      <td>0.499361</td>\n",
       "      <td>-0.246761</td>\n",
       "      <td>0.651583</td>\n",
       "      <td>0.069539</td>\n",
       "      <td>-0.736727</td>\n",
       "      <td>...</td>\n",
       "      <td>-0.633753</td>\n",
       "      <td>-0.120794</td>\n",
       "      <td>-0.385050</td>\n",
       "      <td>-0.069733</td>\n",
       "      <td>0.094199</td>\n",
       "      <td>0.246219</td>\n",
       "      <td>0.083076</td>\n",
       "      <td>3.68</td>\n",
       "      <td>0</td>\n",
       "      <td>-0.338516</td>\n",
       "    </tr>\n",
       "  </tbody>\n",
       "</table>\n",
       "<p>10 rows × 32 columns</p>\n",
       "</div>"
      ],
      "text/plain": [
       "   Time        V1        V2        V3        V4        V5        V6        V7  \\\n",
       "0   0.0 -1.359807 -0.072781  2.536347  1.378155 -0.338321  0.462388  0.239599   \n",
       "1   0.0  1.191857  0.266151  0.166480  0.448154  0.060018 -0.082361 -0.078803   \n",
       "2   1.0 -1.358354 -1.340163  1.773209  0.379780 -0.503198  1.800499  0.791461   \n",
       "3   1.0 -0.966272 -0.185226  1.792993 -0.863291 -0.010309  1.247203  0.237609   \n",
       "4   2.0 -1.158233  0.877737  1.548718  0.403034 -0.407193  0.095921  0.592941   \n",
       "5   2.0 -0.425966  0.960523  1.141109 -0.168252  0.420987 -0.029728  0.476201   \n",
       "6   4.0  1.229658  0.141004  0.045371  1.202613  0.191881  0.272708 -0.005159   \n",
       "7   7.0 -0.644269  1.417964  1.074380 -0.492199  0.948934  0.428118  1.120631   \n",
       "8   7.0 -0.894286  0.286157 -0.113192 -0.271526  2.669599  3.721818  0.370145   \n",
       "9   9.0 -0.338262  1.119593  1.044367 -0.222187  0.499361 -0.246761  0.651583   \n",
       "\n",
       "         V8        V9  ...       V22       V23       V24       V25       V26  \\\n",
       "0  0.098698  0.363787  ...  0.277838 -0.110474  0.066928  0.128539 -0.189115   \n",
       "1  0.085102 -0.255425  ... -0.638672  0.101288 -0.339846  0.167170  0.125895   \n",
       "2  0.247676 -1.514654  ...  0.771679  0.909412 -0.689281 -0.327642 -0.139097   \n",
       "3  0.377436 -1.387024  ...  0.005274 -0.190321 -1.175575  0.647376 -0.221929   \n",
       "4 -0.270533  0.817739  ...  0.798278 -0.137458  0.141267 -0.206010  0.502292   \n",
       "5  0.260314 -0.568671  ... -0.559825 -0.026398 -0.371427 -0.232794  0.105915   \n",
       "6  0.081213  0.464960  ... -0.270710 -0.154104 -0.780055  0.750137 -0.257237   \n",
       "7 -3.807864  0.615375  ... -1.015455  0.057504 -0.649709 -0.415267 -0.051634   \n",
       "8  0.851084 -0.392048  ... -0.268092 -0.204233  1.011592  0.373205 -0.384157   \n",
       "9  0.069539 -0.736727  ... -0.633753 -0.120794 -0.385050 -0.069733  0.094199   \n",
       "\n",
       "        V27       V28  Amount  Class  std_amount  \n",
       "0  0.133558 -0.021053  149.62      0    0.244964  \n",
       "1 -0.008983  0.014724    2.69      0   -0.342475  \n",
       "2 -0.055353 -0.059752  378.66      0    1.160686  \n",
       "3  0.062723  0.061458  123.50      0    0.140534  \n",
       "4  0.219422  0.215153   69.99      0   -0.073403  \n",
       "5  0.253844  0.081080    3.67      0   -0.338556  \n",
       "6  0.034507  0.005168    4.99      0   -0.333279  \n",
       "7 -1.206921 -1.085339   40.80      0   -0.190107  \n",
       "8  0.011747  0.142404   93.20      0    0.019392  \n",
       "9  0.246219  0.083076    3.68      0   -0.338516  \n",
       "\n",
       "[10 rows x 32 columns]"
      ]
     },
     "execution_count": 6,
     "metadata": {},
     "output_type": "execute_result"
    }
   ],
   "source": [
    "# Melihat tabel df\n",
    "df.head(10)"
   ]
  },
  {
   "cell_type": "markdown",
   "id": "3cc6b687-393d-4b3d-8659-07992edcbda3",
   "metadata": {},
   "source": [
    "Sekarang kita sudah memiliki kolom baru `std_amount` di posisi paling kanan."
   ]
  },
  {
   "cell_type": "markdown",
   "id": "1f56dc01-c307-4ed6-8627-0ec401af2c81",
   "metadata": {},
   "source": [
    "Sekarang kita tentukan variabel independen (X) dan variabel dependen (y).\n",
    "- Untuk variabel independen (X) tidak kita ikutkan 3 kolom yaitu `Time`, `Amount`, dan `Class`. \n",
    "- Untuk variabel dependen (y) kita pilih kolom `Class`."
   ]
  },
  {
   "cell_type": "code",
   "execution_count": 7,
   "id": "33a98e3f-76c4-496f-8f3b-c4cf64c8e4e8",
   "metadata": {},
   "outputs": [],
   "source": [
    "# Menentukan variabel independen (X) dan dependen (y)\n",
    "X = df.drop(['Time', 'Amount', 'Class'], axis=1)\n",
    "y = df.iloc[:,-2]"
   ]
  },
  {
   "cell_type": "code",
   "execution_count": 8,
   "id": "8a00ae9a-2159-443a-8273-4aa49fa8302b",
   "metadata": {},
   "outputs": [
    {
     "data": {
      "text/plain": [
       "(284807, 29)"
      ]
     },
     "execution_count": 8,
     "metadata": {},
     "output_type": "execute_result"
    }
   ],
   "source": [
    "# Melihat dimensi X\n",
    "X.shape"
   ]
  },
  {
   "cell_type": "markdown",
   "id": "61b448a5-3bb1-41c8-9075-0f5d4057850f",
   "metadata": {},
   "source": [
    "Terdapat 29 input yang harus kita siapkan untuk modelnya nanti."
   ]
  },
  {
   "cell_type": "code",
   "execution_count": 9,
   "id": "2e24ea87-8cfb-4295-8b58-797e32f39cdf",
   "metadata": {},
   "outputs": [],
   "source": [
    "# Membagi data menjadi training dan test set\n",
    "X_train, X_test, y_train, y_test = train_test_split(X, y, test_size = 0.2, random_state=0)"
   ]
  },
  {
   "cell_type": "markdown",
   "id": "a5f1acf3-bf6e-40f2-85f1-6a993f47e386",
   "metadata": {},
   "source": [
    "Sekarang kita akan mencoba menggunakan *neural network*. <br>\n",
    "Idealnya untuk proses evaluasi model, maka digunakan *cross validation*.<br>\n",
    "Namun jika menggunakan *neural network*, maka prosesnya bisa sangat lama.<br>\n",
    "Maka yang akan kita lakukan adalah 1x *cross validation*, di mana kita perlu membagi data *training set* menjadi *training* dan *validation set*."
   ]
  },
  {
   "cell_type": "code",
   "execution_count": 10,
   "id": "691d69d0-7291-42b4-add5-12b5bb62dfce",
   "metadata": {},
   "outputs": [],
   "source": [
    "# Membagi data menjadi training set dan validation set\n",
    "X_train, X_validate, y_train, y_validate = train_test_split(X_train , y_train, test_size = 0.2, random_state=0)"
   ]
  },
  {
   "cell_type": "markdown",
   "id": "42663841-27be-480e-8cdd-eab2c5aeb424",
   "metadata": {},
   "source": [
    "Sekarang kita rancang ANN (*artificial neural network*) kita."
   ]
  },
  {
   "cell_type": "code",
   "execution_count": 11,
   "id": "d2d54cdc-7bdb-4d68-900a-3c20156e7dd3",
   "metadata": {},
   "outputs": [
    {
     "name": "stdout",
     "output_type": "stream",
     "text": [
      "Model: \"sequential\"\n",
      "_________________________________________________________________\n",
      " Layer (type)                Output Shape              Param #   \n",
      "=================================================================\n",
      " dense (Dense)               (None, 16)                480       \n",
      "                                                                 \n",
      " dense_1 (Dense)             (None, 24)                408       \n",
      "                                                                 \n",
      " dropout (Dropout)           (None, 24)                0         \n",
      "                                                                 \n",
      " dense_2 (Dense)             (None, 20)                500       \n",
      "                                                                 \n",
      " dense_3 (Dense)             (None, 24)                504       \n",
      "                                                                 \n",
      " dense_4 (Dense)             (None, 1)                 25        \n",
      "                                                                 \n",
      "=================================================================\n",
      "Total params: 1,917\n",
      "Trainable params: 1,917\n",
      "Non-trainable params: 0\n",
      "_________________________________________________________________\n"
     ]
    }
   ],
   "source": [
    "# Perintah pertama untuk menyiapkan ANN\n",
    "classifier = Sequential()\n",
    "\n",
    "# Perintah kedua untuk menambahkan layer pertama sebanyak 16 neuron, input sebanyak 29 variabel, dengan fungsi aktivasi ReLu\n",
    "classifier.add(Dense(units=16, input_dim = 29, activation='relu'))\n",
    "\n",
    "# Menambah hidden layer sebanyak 24 neuron\n",
    "classifier.add(Dense(24, activation='relu'))\n",
    "\n",
    "# Menambahkan layer dropout untuk menghindari overfitting\n",
    "classifier.add(Dropout(0.25))\n",
    "\n",
    "# Menambah lagi hidden layer sebanyak 20 neuron dengan fungsi aktivasi ReLu\n",
    "classifier.add(Dense(20, activation='relu'))\n",
    "\n",
    "# Menambah lagi hidden layer sebanyak 24 neuron dengan fungsi aktivasi ReLu\n",
    "classifier.add(Dense(24, activation='relu'))\n",
    "\n",
    "# Menambah output layer sebanyak 1 neuron dengan fungsi aktivasi Sigmoid (untuk klasifikasi binary)\n",
    "classifier.add(Dense(1, activation='sigmoid'))\n",
    "\n",
    "# Compiler ANN dengan metrik yang ingin dicari adalah akurasi\n",
    "classifier.compile(optimizer='adam', loss='binary_crossentropy', metrics=['accuracy'])\n",
    "\n",
    "# Ringkasan desainnya\n",
    "classifier.summary()"
   ]
  },
  {
   "cell_type": "code",
   "execution_count": 12,
   "id": "244dc988-0334-48c6-ba0a-4b8624aa3104",
   "metadata": {},
   "outputs": [
    {
     "name": "stdout",
     "output_type": "stream",
     "text": [
      "You must install pydot (`pip install pydot`) and install graphviz (see instructions at https://graphviz.gitlab.io/download/) for plot_model to work.\n"
     ]
    }
   ],
   "source": [
    "# Visualisasi Model\n",
    "plot_model(classifier, to_file='model_plot.png', show_shapes=True, show_layer_names=False)"
   ]
  },
  {
   "cell_type": "code",
   "execution_count": 13,
   "id": "0908a086-72a6-46ff-bc46-ed12ad7cd60d",
   "metadata": {},
   "outputs": [
    {
     "name": "stdout",
     "output_type": "stream",
     "text": [
      "Epoch 1/5\n",
      "5697/5697 [==============================] - 16s 2ms/step - loss: 0.0105 - accuracy: 0.9984 - val_loss: 0.0036 - val_accuracy: 0.9995\n",
      "Epoch 2/5\n",
      "5697/5697 [==============================] - 15s 3ms/step - loss: 0.0037 - accuracy: 0.9993 - val_loss: 0.0031 - val_accuracy: 0.9995\n",
      "Epoch 3/5\n",
      "5697/5697 [==============================] - 18s 3ms/step - loss: 0.0032 - accuracy: 0.9994 - val_loss: 0.0033 - val_accuracy: 0.9995\n",
      "Epoch 4/5\n",
      "5697/5697 [==============================] - 14s 2ms/step - loss: 0.0031 - accuracy: 0.9994 - val_loss: 0.0029 - val_accuracy: 0.9995\n",
      "Epoch 5/5\n",
      "5697/5697 [==============================] - 14s 2ms/step - loss: 0.0029 - accuracy: 0.9994 - val_loss: 0.0031 - val_accuracy: 0.9995\n"
     ]
    }
   ],
   "source": [
    "# Proses training model ANN\n",
    "run_model = classifier.fit(X_train,y_train,\n",
    "                           batch_size = 32,\n",
    "                           epochs = 5, \n",
    "                           verbose = 1,\n",
    "                           validation_data = (X_validate, y_validate))"
   ]
  },
  {
   "cell_type": "code",
   "execution_count": 14,
   "id": "db883512-8af8-4645-9d55-61b60f486d97",
   "metadata": {},
   "outputs": [
    {
     "name": "stdout",
     "output_type": "stream",
     "text": [
      "dict_keys(['loss', 'accuracy', 'val_loss', 'val_accuracy'])\n"
     ]
    }
   ],
   "source": [
    "# Melihat parameter apa saja yang disimpan\n",
    "print(run_model.history.keys())"
   ]
  },
  {
   "cell_type": "code",
   "execution_count": 15,
   "id": "a65cebe2-1065-41a0-a8e0-75a39cc56245",
   "metadata": {},
   "outputs": [
    {
     "data": {
      "image/png": "[encoded data removed]",
      "text/plain": [
       "<Figure size 640x480 with 1 Axes>"
      ]
     },
     "metadata": {},
     "output_type": "display_data"
    }
   ],
   "source": [
    "# Proses plotting accuracy selama proses training\n",
    "plt.plot(run_model.history['accuracy'])\n",
    "plt.plot(run_model.history['val_accuracy'])\n",
    "plt.title('model accuracy')\n",
    "plt.ylabel('accuracy')\n",
    "plt.xlabel('epoch')\n",
    "plt.legend(['train', 'validate'], loc='upper left')\n",
    "plt.show()"
   ]
  },
  {
   "cell_type": "code",
   "execution_count": 16,
   "id": "878ce4ab-96d6-4ebf-8a14-ba647dc94cf0",
   "metadata": {},
   "outputs": [
    {
     "data": {
      "image/png": "[encoded data removed]",
      "text/plain": [
       "<Figure size 640x480 with 1 Axes>"
      ]
     },
     "metadata": {},
     "output_type": "display_data"
    }
   ],
   "source": [
    "# Proses plotting loss selama proses training\n",
    "plt.plot(run_model.history['loss'])\n",
    "plt.plot(run_model.history['val_loss'])\n",
    "plt.title('model loss')\n",
    "plt.ylabel('loss')\n",
    "plt.xlabel('epoch')\n",
    "plt.legend(['loss', 'val_loss'], loc='upper left')\n",
    "plt.show()"
   ]
  },
  {
   "cell_type": "code",
   "execution_count": 17,
   "id": "61cf21b0-c8bf-428b-b29b-aac1a73b234a",
   "metadata": {},
   "outputs": [
    {
     "name": "stdout",
     "output_type": "stream",
     "text": [
      "1781/1781 [==============================] - 3s 2ms/step - loss: 0.0035 - accuracy: 0.9994\n",
      "Test Accuracy : 99.94%\n"
     ]
    }
   ],
   "source": [
    "# Mengevaluasi model\n",
    "evaluasi = classifier.evaluate(X_test, y_test)\n",
    "print('Test Accuracy : {:.2f}%'.format(evaluasi[1]*100))"
   ]
  },
  {
   "cell_type": "code",
   "execution_count": 18,
   "id": "571e6017-6386-4d7e-8645-6262ec4e8adc",
   "metadata": {},
   "outputs": [
    {
     "name": "stdout",
     "output_type": "stream",
     "text": [
      "1781/1781 [==============================] - 3s 2ms/step\n"
     ]
    }
   ],
   "source": [
    "# Mulai menguji model ke test set\n",
    "hasil_prediksi = (classifier.predict(X_test) > 0.5).astype(int)"
   ]
  },
  {
   "cell_type": "code",
   "execution_count": 19,
   "id": "3e6f7852-279b-42d6-80a9-f1e6ffdeab13",
   "metadata": {},
   "outputs": [
    {
     "data": {
      "text/plain": [
       "array([[0],\n",
       "       [0],\n",
       "       [0],\n",
       "       ...,\n",
       "       [0],\n",
       "       [0],\n",
       "       [0]])"
      ]
     },
     "execution_count": 19,
     "metadata": {},
     "output_type": "execute_result"
    }
   ],
   "source": [
    "# Melihat hasil prediksi\n",
    "hasil_prediksi"
   ]
  },
  {
   "cell_type": "code",
   "execution_count": 20,
   "id": "48f19248-d2c4-4042-8a33-0be9b43c848e",
   "metadata": {},
   "outputs": [],
   "source": [
    "# Membuat confusion matrix\n",
    "cm = confusion_matrix(y_test, hasil_prediksi)"
   ]
  },
  {
   "cell_type": "code",
   "execution_count": 21,
   "id": "2269ea51-0f88-4210-a097-23b7a9376ebe",
   "metadata": {
    "tags": []
   },
   "outputs": [
    {
     "data": {
      "text/plain": [
       "array([[56848,    13],\n",
       "       [   22,    79]], dtype=int64)"
      ]
     },
     "execution_count": 21,
     "metadata": {},
     "output_type": "execute_result"
    }
   ],
   "source": [
    "# Melihat cm\n",
    "cm"
   ]
  },
  {
   "cell_type": "code",
   "execution_count": 22,
   "id": "dd0e32ac-c6d3-4e40-9869-59267a2ba136",
   "metadata": {},
   "outputs": [],
   "source": [
    "# Membuat confusion matrix dalam bentu tabel dataframe\n",
    "cm_label = pd.DataFrame(cm, columns=np.unique(y_test), index = np.unique(y_test))\n",
    "cm_label.index.name = 'Actual'\n",
    "cm_label.columns.name = 'Predicted'"
   ]
  },
  {
   "cell_type": "code",
   "execution_count": 23,
   "id": "6407cad8-d79e-4003-9035-b237f93d21c4",
   "metadata": {},
   "outputs": [
    {
     "data": {
      "text/html": [
       "<div>\n",
       "<style scoped>\n",
       "    .dataframe tbody tr th:only-of-type {\n",
       "        vertical-align: middle;\n",
       "    }\n",
       "\n",
       "    .dataframe tbody tr th {\n",
       "        vertical-align: top;\n",
       "    }\n",
       "\n",
       "    .dataframe thead th {\n",
       "        text-align: right;\n",
       "    }\n",
       "</style>\n",
       "<table border=\"1\" class=\"dataframe\">\n",
       "  <thead>\n",
       "    <tr style=\"text-align: right;\">\n",
       "      <th>Predicted</th>\n",
       "      <th>0</th>\n",
       "      <th>1</th>\n",
       "    </tr>\n",
       "    <tr>\n",
       "      <th>Actual</th>\n",
       "      <th></th>\n",
       "      <th></th>\n",
       "    </tr>\n",
       "  </thead>\n",
       "  <tbody>\n",
       "    <tr>\n",
       "      <th>0</th>\n",
       "      <td>56848</td>\n",
       "      <td>13</td>\n",
       "    </tr>\n",
       "    <tr>\n",
       "      <th>1</th>\n",
       "      <td>22</td>\n",
       "      <td>79</td>\n",
       "    </tr>\n",
       "  </tbody>\n",
       "</table>\n",
       "</div>"
      ],
      "text/plain": [
       "Predicted      0   1\n",
       "Actual              \n",
       "0          56848  13\n",
       "1             22  79"
      ]
     },
     "execution_count": 23,
     "metadata": {},
     "output_type": "execute_result"
    }
   ],
   "source": [
    "# Melihat cm_label\n",
    "cm_label"
   ]
  },
  {
   "cell_type": "markdown",
   "id": "b75229e2-e0f2-43fd-a9e1-f9b7b5ab405b",
   "metadata": {},
   "source": [
    "Bisa dilihat di sini bahwa datanya sangat tidak balanced (*imbalanced dataset*). Oleh karena itu perlu dilakukan balancing dulu."
   ]
  },
  {
   "cell_type": "code",
   "execution_count": 24,
   "id": "faab3a08-cfc3-4a0f-8e9f-ab17978ed68c",
   "metadata": {},
   "outputs": [
    {
     "data": {
      "text/plain": [
       "<Axes: xlabel='Predicted', ylabel='Actual'>"
      ]
     },
     "execution_count": 24,
     "metadata": {},
     "output_type": "execute_result"
    },
    {
     "data": {
      "image/png": "[encoded data removed]",
      "text/plain": [
       "<Figure size 640x480 with 2 Axes>"
      ]
     },
     "metadata": {},
     "output_type": "display_data"
    }
   ],
   "source": [
    "# Plot confusion matrix\n",
    "sns.heatmap(cm_label, annot=True, cmap='Blues', fmt='g')"
   ]
  },
  {
   "cell_type": "code",
   "execution_count": 25,
   "id": "8911d691-37f8-483b-879a-6efdb87bff3a",
   "metadata": {},
   "outputs": [
    {
     "name": "stdout",
     "output_type": "stream",
     "text": [
      "              precision    recall  f1-score   support\n",
      "\n",
      "     Class 0       1.00      1.00      1.00     56861\n",
      "     Class 1       0.86      0.78      0.82       101\n",
      "\n",
      "    accuracy                           1.00     56962\n",
      "   macro avg       0.93      0.89      0.91     56962\n",
      "weighted avg       1.00      1.00      1.00     56962\n",
      "\n"
     ]
    }
   ],
   "source": [
    "# Menggunakan classification_report dari scikit-learn\n",
    "jumlah_kategori = 2\n",
    "target_names = [\"Class {}\".format(i) for i in range(jumlah_kategori)]\n",
    "print(classification_report(y_test, hasil_prediksi, target_names = target_names))"
   ]
  },
  {
   "cell_type": "code",
   "execution_count": 26,
   "id": "516a831f-65c4-4f2a-8b1a-c42667bb80aa",
   "metadata": {},
   "outputs": [
    {
     "name": "stdout",
     "output_type": "stream",
     "text": [
      "Class\n",
      "0    0.998273\n",
      "1    0.001727\n",
      "Name: count, dtype: float64\n"
     ]
    }
   ],
   "source": [
    "# Melihat proporsi targetnya\n",
    "print(y.value_counts()/len(y))"
   ]
  },
  {
   "cell_type": "markdown",
   "id": "3d8a443c-6c1f-40f1-bf0a-7da1471ccc58",
   "metadata": {},
   "source": [
    "<br><hr><br>"
   ]
  },
  {
   "cell_type": "markdown",
   "id": "39eb7a21-3b3e-44bc-bdb3-c76e23ef9947",
   "metadata": {},
   "source": [
    "## Balancing Dataset"
   ]
  },
  {
   "cell_type": "code",
   "execution_count": 27,
   "id": "e8a06ba0-14a0-4a35-83c9-d84069194621",
   "metadata": {},
   "outputs": [],
   "source": [
    "# Balancind dataset dengan Undersampling\n",
    "ros = RandomUnderSampler(\n",
    "    sampling_strategy= 'auto', # sampling minority class\n",
    "    random_state= 0, # for reproducibility\n",
    "    replacement=True \n",
    ")  \n",
    "X_res, y_res = ros.fit_resample(X, y)"
   ]
  },
  {
   "cell_type": "code",
   "execution_count": 28,
   "id": "44c1f908-8ae8-4a05-9200-6390137bfe14",
   "metadata": {},
   "outputs": [
    {
     "name": "stdout",
     "output_type": "stream",
     "text": [
      "(984, 29)\n",
      "(984,)\n"
     ]
    }
   ],
   "source": [
    "# Melihat dimensi\n",
    "print(X_res.shape)\n",
    "print(y_res.shape)"
   ]
  },
  {
   "cell_type": "code",
   "execution_count": 29,
   "id": "221e44c4-6837-4580-bb92-d88cfceaf582",
   "metadata": {},
   "outputs": [
    {
     "name": "stdout",
     "output_type": "stream",
     "text": [
      "Class\n",
      "0    0.5\n",
      "1    0.5\n",
      "Name: count, dtype: float64\n"
     ]
    }
   ],
   "source": [
    "# Melihat proporsi targetnya setelah resampling\n",
    "print(y_res.value_counts()/len(y_res))"
   ]
  },
  {
   "cell_type": "markdown",
   "id": "881eb132-e5bb-4e43-8246-3c17840d523c",
   "metadata": {},
   "source": [
    "Sekarang kita sudah memiliki dataset yang sudah balanced.<br>\n",
    "Kita bagi datasetnya menjadi 2 yaitu training set dan test set final.\n",
    "\n",
    "Training set digunakan untuk training (membangun model), sementara test set final digunakan untuk evaluasi model akhir."
   ]
  },
  {
   "cell_type": "code",
   "execution_count": 30,
   "id": "caa88355-49bd-4489-867f-600451050912",
   "metadata": {},
   "outputs": [],
   "source": [
    "# Membagi ke training set dan test set final \n",
    "X_train2, X_test_final, y_train2, y_test_final = train_test_split(X_res, y_res, test_size = 0.1, random_state=0, stratify=y_res)"
   ]
  },
  {
   "cell_type": "code",
   "execution_count": 31,
   "id": "f71ce5fe-65bf-479c-b8a3-c35cb8de1b1b",
   "metadata": {},
   "outputs": [
    {
     "data": {
      "text/html": [
       "<div>\n",
       "<style scoped>\n",
       "    .dataframe tbody tr th:only-of-type {\n",
       "        vertical-align: middle;\n",
       "    }\n",
       "\n",
       "    .dataframe tbody tr th {\n",
       "        vertical-align: top;\n",
       "    }\n",
       "\n",
       "    .dataframe thead th {\n",
       "        text-align: right;\n",
       "    }\n",
       "</style>\n",
       "<table border=\"1\" class=\"dataframe\">\n",
       "  <thead>\n",
       "    <tr style=\"text-align: right;\">\n",
       "      <th></th>\n",
       "      <th>V1</th>\n",
       "      <th>V2</th>\n",
       "      <th>V3</th>\n",
       "      <th>V4</th>\n",
       "      <th>V5</th>\n",
       "      <th>V6</th>\n",
       "      <th>V7</th>\n",
       "      <th>V8</th>\n",
       "      <th>V9</th>\n",
       "      <th>V10</th>\n",
       "      <th>...</th>\n",
       "      <th>V20</th>\n",
       "      <th>V21</th>\n",
       "      <th>V22</th>\n",
       "      <th>V23</th>\n",
       "      <th>V24</th>\n",
       "      <th>V25</th>\n",
       "      <th>V26</th>\n",
       "      <th>V27</th>\n",
       "      <th>V28</th>\n",
       "      <th>std_amount</th>\n",
       "    </tr>\n",
       "  </thead>\n",
       "  <tbody>\n",
       "    <tr>\n",
       "      <th>280149</th>\n",
       "      <td>-0.676143</td>\n",
       "      <td>1.126366</td>\n",
       "      <td>-2.213700</td>\n",
       "      <td>0.468308</td>\n",
       "      <td>-1.120541</td>\n",
       "      <td>-0.003346</td>\n",
       "      <td>-2.234739</td>\n",
       "      <td>1.210158</td>\n",
       "      <td>-0.652250</td>\n",
       "      <td>-3.463891</td>\n",
       "      <td>...</td>\n",
       "      <td>0.247968</td>\n",
       "      <td>0.751826</td>\n",
       "      <td>0.834108</td>\n",
       "      <td>0.190944</td>\n",
       "      <td>0.032070</td>\n",
       "      <td>-0.739695</td>\n",
       "      <td>0.471111</td>\n",
       "      <td>0.385107</td>\n",
       "      <td>0.194361</td>\n",
       "      <td>-0.041818</td>\n",
       "    </tr>\n",
       "    <tr>\n",
       "      <th>255822</th>\n",
       "      <td>2.038687</td>\n",
       "      <td>-0.071701</td>\n",
       "      <td>-1.468237</td>\n",
       "      <td>1.054372</td>\n",
       "      <td>0.658919</td>\n",
       "      <td>0.347260</td>\n",
       "      <td>-0.002837</td>\n",
       "      <td>-0.022811</td>\n",
       "      <td>0.526842</td>\n",
       "      <td>0.328053</td>\n",
       "      <td>...</td>\n",
       "      <td>-0.206482</td>\n",
       "      <td>0.072413</td>\n",
       "      <td>0.498103</td>\n",
       "      <td>-0.175714</td>\n",
       "      <td>-1.362246</td>\n",
       "      <td>0.487578</td>\n",
       "      <td>-0.397709</td>\n",
       "      <td>0.017997</td>\n",
       "      <td>-0.072889</td>\n",
       "      <td>-0.313289</td>\n",
       "    </tr>\n",
       "    <tr>\n",
       "      <th>127243</th>\n",
       "      <td>0.959736</td>\n",
       "      <td>-0.663255</td>\n",
       "      <td>1.130273</td>\n",
       "      <td>0.204162</td>\n",
       "      <td>-1.292731</td>\n",
       "      <td>-0.248267</td>\n",
       "      <td>-0.608348</td>\n",
       "      <td>0.111987</td>\n",
       "      <td>0.933822</td>\n",
       "      <td>-0.426476</td>\n",
       "      <td>...</td>\n",
       "      <td>0.107422</td>\n",
       "      <td>0.049590</td>\n",
       "      <td>0.072129</td>\n",
       "      <td>0.038846</td>\n",
       "      <td>0.476113</td>\n",
       "      <td>-0.069933</td>\n",
       "      <td>0.997911</td>\n",
       "      <td>-0.040605</td>\n",
       "      <td>0.034941</td>\n",
       "      <td>0.093197</td>\n",
       "    </tr>\n",
       "    <tr>\n",
       "      <th>94340</th>\n",
       "      <td>-1.043258</td>\n",
       "      <td>0.620814</td>\n",
       "      <td>1.877629</td>\n",
       "      <td>0.522973</td>\n",
       "      <td>-0.487139</td>\n",
       "      <td>0.085217</td>\n",
       "      <td>-0.040953</td>\n",
       "      <td>-0.059857</td>\n",
       "      <td>0.643296</td>\n",
       "      <td>0.089415</td>\n",
       "      <td>...</td>\n",
       "      <td>-0.159602</td>\n",
       "      <td>0.047641</td>\n",
       "      <td>0.291211</td>\n",
       "      <td>0.121146</td>\n",
       "      <td>0.082520</td>\n",
       "      <td>-0.636100</td>\n",
       "      <td>0.277300</td>\n",
       "      <td>-0.492029</td>\n",
       "      <td>0.241602</td>\n",
       "      <td>-0.307251</td>\n",
       "    </tr>\n",
       "    <tr>\n",
       "      <th>74794</th>\n",
       "      <td>-6.003422</td>\n",
       "      <td>-3.930731</td>\n",
       "      <td>-0.007045</td>\n",
       "      <td>1.714669</td>\n",
       "      <td>3.414667</td>\n",
       "      <td>-2.329583</td>\n",
       "      <td>-1.901512</td>\n",
       "      <td>-2.746111</td>\n",
       "      <td>0.887673</td>\n",
       "      <td>-0.049233</td>\n",
       "      <td>...</td>\n",
       "      <td>-4.128186</td>\n",
       "      <td>1.101671</td>\n",
       "      <td>-0.992494</td>\n",
       "      <td>-0.698259</td>\n",
       "      <td>0.139898</td>\n",
       "      <td>-0.205151</td>\n",
       "      <td>-0.472412</td>\n",
       "      <td>1.775378</td>\n",
       "      <td>-0.104285</td>\n",
       "      <td>0.893814</td>\n",
       "    </tr>\n",
       "  </tbody>\n",
       "</table>\n",
       "<p>5 rows × 29 columns</p>\n",
       "</div>"
      ],
      "text/plain": [
       "              V1        V2        V3        V4        V5        V6        V7  \\\n",
       "280149 -0.676143  1.126366 -2.213700  0.468308 -1.120541 -0.003346 -2.234739   \n",
       "255822  2.038687 -0.071701 -1.468237  1.054372  0.658919  0.347260 -0.002837   \n",
       "127243  0.959736 -0.663255  1.130273  0.204162 -1.292731 -0.248267 -0.608348   \n",
       "94340  -1.043258  0.620814  1.877629  0.522973 -0.487139  0.085217 -0.040953   \n",
       "74794  -6.003422 -3.930731 -0.007045  1.714669  3.414667 -2.329583 -1.901512   \n",
       "\n",
       "              V8        V9       V10  ...       V20       V21       V22  \\\n",
       "280149  1.210158 -0.652250 -3.463891  ...  0.247968  0.751826  0.834108   \n",
       "255822 -0.022811  0.526842  0.328053  ... -0.206482  0.072413  0.498103   \n",
       "127243  0.111987  0.933822 -0.426476  ...  0.107422  0.049590  0.072129   \n",
       "94340  -0.059857  0.643296  0.089415  ... -0.159602  0.047641  0.291211   \n",
       "74794  -2.746111  0.887673 -0.049233  ... -4.128186  1.101671 -0.992494   \n",
       "\n",
       "             V23       V24       V25       V26       V27       V28  std_amount  \n",
       "280149  0.190944  0.032070 -0.739695  0.471111  0.385107  0.194361   -0.041818  \n",
       "255822 -0.175714 -1.362246  0.487578 -0.397709  0.017997 -0.072889   -0.313289  \n",
       "127243  0.038846  0.476113 -0.069933  0.997911 -0.040605  0.034941    0.093197  \n",
       "94340   0.121146  0.082520 -0.636100  0.277300 -0.492029  0.241602   -0.307251  \n",
       "74794  -0.698259  0.139898 -0.205151 -0.472412  1.775378 -0.104285    0.893814  \n",
       "\n",
       "[5 rows x 29 columns]"
      ]
     },
     "execution_count": 31,
     "metadata": {},
     "output_type": "execute_result"
    }
   ],
   "source": [
    "# Melihat data X_train2\n",
    "X_train2.head()"
   ]
  },
  {
   "cell_type": "code",
   "execution_count": 32,
   "id": "4049efaa-6935-4831-976d-1243c77ee437",
   "metadata": {},
   "outputs": [
    {
     "data": {
      "text/plain": [
       "280149    1\n",
       "255822    0\n",
       "127243    0\n",
       "94340     0\n",
       "74794     1\n",
       "Name: Class, dtype: int64"
      ]
     },
     "execution_count": 32,
     "metadata": {},
     "output_type": "execute_result"
    }
   ],
   "source": [
    "# Melihat data y_train2\n",
    "y_train2.head()"
   ]
  },
  {
   "cell_type": "code",
   "execution_count": 33,
   "id": "b3bd847d-034c-41d1-a8b0-64b72f8cdf2c",
   "metadata": {},
   "outputs": [
    {
     "name": "stdout",
     "output_type": "stream",
     "text": [
      "Class\n",
      "1    0.500565\n",
      "0    0.499435\n",
      "Name: count, dtype: float64\n"
     ]
    }
   ],
   "source": [
    "# Melihat proporsi dependen variabel di y_train2\n",
    "print(y_train2.value_counts()/len(y_train2))"
   ]
  },
  {
   "cell_type": "markdown",
   "id": "0d07b5c1-29d7-4fdc-b71d-69f7c266b3ed",
   "metadata": {},
   "source": [
    "Sekarang `X_train2` dan `y_train2` kita bagi lagi menjadi `X_train2`,`y_train2` untuk mentraining model kita, dan `X_test2`, `y_test2` untuk mengevaluasi modelnya."
   ]
  },
  {
   "cell_type": "code",
   "execution_count": 34,
   "id": "f6a4ade2-99b4-4dd5-8e31-7d6cd317f806",
   "metadata": {},
   "outputs": [],
   "source": [
    "# Membagi data ke training dan test set (untuk ANN)\n",
    "X_train2, X_test2, y_train2, y_test2 = train_test_split(X_train2, y_train2, test_size = 0.2, random_state=0)"
   ]
  },
  {
   "cell_type": "code",
   "execution_count": 35,
   "id": "b4eac979-d6bd-4479-af24-e0bd0423e5e0",
   "metadata": {},
   "outputs": [
    {
     "name": "stdout",
     "output_type": "stream",
     "text": [
      "(708, 29)\n",
      "(708,)\n"
     ]
    }
   ],
   "source": [
    "# Melihat dimensi X_train2 dan y_train2\n",
    "print(X_train2.shape)\n",
    "print(y_train2.shape)"
   ]
  },
  {
   "cell_type": "code",
   "execution_count": 36,
   "id": "2c526449-5169-469b-87ec-33d2531e9027",
   "metadata": {},
   "outputs": [
    {
     "name": "stdout",
     "output_type": "stream",
     "text": [
      "Class\n",
      "0    0.50565\n",
      "1    0.49435\n",
      "Name: count, dtype: float64\n"
     ]
    }
   ],
   "source": [
    "# Melihat proporsi dependen variabel di y_train2 (setelah displitting lagi)\n",
    "print(y_train2.value_counts()/len(y_train2))"
   ]
  },
  {
   "cell_type": "markdown",
   "id": "60b22f53-6c44-4e17-9f1d-9baae0770d18",
   "metadata": {},
   "source": [
    "Karena kita ingin memastikan bahwa model kita sudah baik, kita memerlukan validation set.<br>\n",
    "Oleh karena itu `X_train2` dan `y_train2` kita bagi lagi menjadi `X_train2`,`y_train2` untuk mentraining model kita, dan `X_validate2`, `y_validate2` untuk memvalidasi (evaluasi) modelnya."
   ]
  },
  {
   "cell_type": "code",
   "execution_count": 37,
   "id": "82aae9ff-431e-4059-8094-435d8dea880f",
   "metadata": {},
   "outputs": [],
   "source": [
    "# Membagi data training set menjadi training set dan validation set\n",
    "X_train2, X_validate2, y_train2, y_validate2 = train_test_split(X_train2 , y_train2, test_size = 0.2, random_state=111)"
   ]
  },
  {
   "cell_type": "code",
   "execution_count": 38,
   "id": "e2d11da3-87a3-46e6-96b7-7aed8ecc582a",
   "metadata": {},
   "outputs": [
    {
     "name": "stdout",
     "output_type": "stream",
     "text": [
      "(566, 29)\n",
      "(566,)\n"
     ]
    }
   ],
   "source": [
    "# Melihat dimensi X_train2 dan y_train2\n",
    "print(X_train2.shape)\n",
    "print(y_train2.shape)"
   ]
  },
  {
   "cell_type": "code",
   "execution_count": 39,
   "id": "192088a0-914c-4ea0-a746-80a74cefe5d7",
   "metadata": {},
   "outputs": [
    {
     "name": "stdout",
     "output_type": "stream",
     "text": [
      "(142, 29)\n",
      "(142,)\n"
     ]
    }
   ],
   "source": [
    "# Melihat dimensi X_train2 dan y_train2\n",
    "print(X_validate2.shape)\n",
    "print(y_validate2.shape)"
   ]
  },
  {
   "cell_type": "code",
   "execution_count": 40,
   "id": "f2448919-7630-4003-984c-d71f5d61d443",
   "metadata": {},
   "outputs": [
    {
     "name": "stdout",
     "output_type": "stream",
     "text": [
      "Class\n",
      "0    0.501767\n",
      "1    0.498233\n",
      "Name: count, dtype: float64\n"
     ]
    }
   ],
   "source": [
    "# Melihat proporsi dependen variabel di y_train2 (setelah displitting lagi)\n",
    "print(y_train2.value_counts()/len(y_train2))"
   ]
  },
  {
   "cell_type": "code",
   "execution_count": 41,
   "id": "197b82c5-c407-49d1-8093-c9901beecd08",
   "metadata": {},
   "outputs": [
    {
     "name": "stdout",
     "output_type": "stream",
     "text": [
      "Class\n",
      "0    0.521127\n",
      "1    0.478873\n",
      "Name: count, dtype: float64\n"
     ]
    }
   ],
   "source": [
    "# Melihat proporsi dependen variabel di y_train2 (setelah displitting lagi)\n",
    "print(y_validate2.value_counts()/len(y_validate2))"
   ]
  },
  {
   "cell_type": "code",
   "execution_count": 42,
   "id": "fd968817-cffe-40a9-a797-0fd09665d910",
   "metadata": {},
   "outputs": [
    {
     "name": "stdout",
     "output_type": "stream",
     "text": [
      "Model: \"sequential_1\"\n",
      "_________________________________________________________________\n",
      " Layer (type)                Output Shape              Param #   \n",
      "=================================================================\n",
      " dense_5 (Dense)             (None, 16)                480       \n",
      "                                                                 \n",
      " dense_6 (Dense)             (None, 24)                408       \n",
      "                                                                 \n",
      " dropout_1 (Dropout)         (None, 24)                0         \n",
      "                                                                 \n",
      " dense_7 (Dense)             (None, 20)                500       \n",
      "                                                                 \n",
      " dense_8 (Dense)             (None, 24)                504       \n",
      "                                                                 \n",
      " dense_9 (Dense)             (None, 1)                 25        \n",
      "                                                                 \n",
      "=================================================================\n",
      "Total params: 1,917\n",
      "Trainable params: 1,917\n",
      "Non-trainable params: 0\n",
      "_________________________________________________________________\n"
     ]
    }
   ],
   "source": [
    "# Merancang ANN\n",
    "classifier2 = Sequential()\n",
    "classifier2.add(Dense(units=16, input_dim = 29, activation='relu'))\n",
    "classifier2.add(Dense(24, activation='relu'))\n",
    "classifier2.add(Dropout(0.25))\n",
    "classifier2.add(Dense(20, activation='relu'))\n",
    "classifier2.add(Dense(24, activation='relu'))\n",
    "classifier2.add(Dense(1, activation='sigmoid'))\n",
    "classifier2.compile(optimizer='adam', loss='binary_crossentropy', metrics=['accuracy'])\n",
    "classifier2.summary()"
   ]
  },
  {
   "cell_type": "code",
   "execution_count": 43,
   "id": "c5e98f18-077c-4122-96f7-0fe752c6bbe8",
   "metadata": {},
   "outputs": [
    {
     "name": "stdout",
     "output_type": "stream",
     "text": [
      "Epoch 1/5\n",
      "71/71 [==============================] - 2s 5ms/step - loss: 0.4996 - accuracy: 0.6007 - val_loss: 0.5018 - val_accuracy: 0.7958\n",
      "Epoch 2/5\n",
      "71/71 [==============================] - 0s 2ms/step - loss: 0.3625 - accuracy: 0.9205 - val_loss: 0.4729 - val_accuracy: 0.9085\n",
      "Epoch 3/5\n",
      "71/71 [==============================] - 0s 2ms/step - loss: 0.2545 - accuracy: 0.9293 - val_loss: 0.4679 - val_accuracy: 0.9085\n",
      "Epoch 4/5\n",
      "71/71 [==============================] - 0s 2ms/step - loss: 0.1813 - accuracy: 0.9435 - val_loss: 0.5147 - val_accuracy: 0.9014\n",
      "Epoch 5/5\n",
      "71/71 [==============================] - 0s 2ms/step - loss: 0.1452 - accuracy: 0.9470 - val_loss: 0.5101 - val_accuracy: 0.9155\n"
     ]
    }
   ],
   "source": [
    "# Menjalankan model ANN yang sudah diresampling\n",
    "run_model2 = classifier2.fit(X_train2, y_train2,\n",
    "                             batch_size = 8,\n",
    "                             epochs = 5, \n",
    "                             verbose = 1,\n",
    "                             validation_data = (X_validate2, y_validate2))"
   ]
  },
  {
   "cell_type": "code",
   "execution_count": 44,
   "id": "e147f371-fbd4-4ac4-b4c8-3da934e220c6",
   "metadata": {},
   "outputs": [
    {
     "data": {
      "image/png": "[encoded data removed]",
      "text/plain": [
       "<Figure size 640x480 with 1 Axes>"
      ]
     },
     "metadata": {},
     "output_type": "display_data"
    }
   ],
   "source": [
    "# Proses plotting accuracy selama proses training\n",
    "plt.plot(run_model2.history['accuracy'])\n",
    "plt.plot(run_model2.history['val_accuracy'])\n",
    "plt.title('model accuracy')\n",
    "plt.ylabel('accuracy')\n",
    "plt.xlabel('epoch')\n",
    "plt.legend(['train', 'validate'], loc='upper left')\n",
    "plt.show()"
   ]
  },
  {
   "cell_type": "code",
   "execution_count": 45,
   "id": "86391b18-0411-4886-b9c1-ff1b9b141549",
   "metadata": {},
   "outputs": [
    {
     "data": {
      "image/png": "[encoded data removed]",
      "text/plain": [
       "<Figure size 640x480 with 1 Axes>"
      ]
     },
     "metadata": {},
     "output_type": "display_data"
    }
   ],
   "source": [
    "# Proses plotting loss selama proses training\n",
    "plt.plot(run_model2.history['loss'])\n",
    "plt.plot(run_model2.history['val_loss'])\n",
    "plt.title('model loss')\n",
    "plt.ylabel('loss')\n",
    "plt.xlabel('epoch')\n",
    "plt.legend(['loss', 'val_loss'], loc='upper left')\n",
    "plt.show()"
   ]
  },
  {
   "cell_type": "code",
   "execution_count": 46,
   "id": "5736f15e-3913-44a0-a351-f34fc40a93f7",
   "metadata": {},
   "outputs": [
    {
     "name": "stdout",
     "output_type": "stream",
     "text": [
      "6/6 [==============================] - 0s 2ms/step - loss: 0.1418 - accuracy: 0.9548\n",
      "Test Accuracy : 95.48%\n"
     ]
    }
   ],
   "source": [
    "# Mengevaluasi model\n",
    "evaluasi2 = classifier2.evaluate(X_test2, y_test2)\n",
    "print('Test Accuracy : {:.2f}%'.format(evaluasi2[1]*100))"
   ]
  },
  {
   "cell_type": "code",
   "execution_count": 47,
   "id": "6fa47e04-18de-447a-91f9-947be903dd59",
   "metadata": {},
   "outputs": [
    {
     "name": "stdout",
     "output_type": "stream",
     "text": [
      "6/6 [==============================] - 0s 2ms/step\n"
     ]
    }
   ],
   "source": [
    "# Mulai menguji model ke test set\n",
    "hasil_prediksi2 = (classifier2.predict(X_test2) > 0.5).astype(int)"
   ]
  },
  {
   "cell_type": "code",
   "execution_count": 48,
   "id": "2379f812-4d9e-4293-b305-38ff36d1e2ee",
   "metadata": {},
   "outputs": [
    {
     "data": {
      "text/plain": [
       "array([[0],\n",
       "       [1],\n",
       "       [1],\n",
       "       [1],\n",
       "       [1],\n",
       "       [1],\n",
       "       [0],\n",
       "       [1],\n",
       "       [0],\n",
       "       [1],\n",
       "       [1],\n",
       "       [0],\n",
       "       [0],\n",
       "       [1],\n",
       "       [0],\n",
       "       [0],\n",
       "       [0],\n",
       "       [1],\n",
       "       [1],\n",
       "       [0],\n",
       "       [0],\n",
       "       [1],\n",
       "       [1],\n",
       "       [1],\n",
       "       [1],\n",
       "       [0],\n",
       "       [0],\n",
       "       [0],\n",
       "       [0],\n",
       "       [1],\n",
       "       [1],\n",
       "       [0],\n",
       "       [1],\n",
       "       [0],\n",
       "       [0],\n",
       "       [1],\n",
       "       [0],\n",
       "       [0],\n",
       "       [1],\n",
       "       [0],\n",
       "       [0],\n",
       "       [0],\n",
       "       [1],\n",
       "       [1],\n",
       "       [1],\n",
       "       [0],\n",
       "       [0],\n",
       "       [1],\n",
       "       [0],\n",
       "       [1],\n",
       "       [1],\n",
       "       [1],\n",
       "       [1],\n",
       "       [0],\n",
       "       [1],\n",
       "       [1],\n",
       "       [0],\n",
       "       [0],\n",
       "       [1],\n",
       "       [1],\n",
       "       [1],\n",
       "       [1],\n",
       "       [0],\n",
       "       [0],\n",
       "       [1],\n",
       "       [0],\n",
       "       [0],\n",
       "       [1],\n",
       "       [1],\n",
       "       [0],\n",
       "       [1],\n",
       "       [0],\n",
       "       [1],\n",
       "       [0],\n",
       "       [1],\n",
       "       [1],\n",
       "       [0],\n",
       "       [0],\n",
       "       [1],\n",
       "       [1],\n",
       "       [1],\n",
       "       [0],\n",
       "       [1],\n",
       "       [0],\n",
       "       [1],\n",
       "       [0],\n",
       "       [1],\n",
       "       [1],\n",
       "       [1],\n",
       "       [1],\n",
       "       [1],\n",
       "       [1],\n",
       "       [0],\n",
       "       [1],\n",
       "       [1],\n",
       "       [0],\n",
       "       [0],\n",
       "       [0],\n",
       "       [0],\n",
       "       [0],\n",
       "       [0],\n",
       "       [0],\n",
       "       [1],\n",
       "       [1],\n",
       "       [1],\n",
       "       [0],\n",
       "       [0],\n",
       "       [0],\n",
       "       [0],\n",
       "       [1],\n",
       "       [1],\n",
       "       [0],\n",
       "       [1],\n",
       "       [1],\n",
       "       [1],\n",
       "       [1],\n",
       "       [1],\n",
       "       [0],\n",
       "       [1],\n",
       "       [0],\n",
       "       [0],\n",
       "       [0],\n",
       "       [1],\n",
       "       [0],\n",
       "       [0],\n",
       "       [1],\n",
       "       [0],\n",
       "       [1],\n",
       "       [0],\n",
       "       [0],\n",
       "       [0],\n",
       "       [0],\n",
       "       [0],\n",
       "       [0],\n",
       "       [0],\n",
       "       [0],\n",
       "       [0],\n",
       "       [0],\n",
       "       [0],\n",
       "       [1],\n",
       "       [0],\n",
       "       [0],\n",
       "       [0],\n",
       "       [0],\n",
       "       [1],\n",
       "       [1],\n",
       "       [0],\n",
       "       [1],\n",
       "       [0],\n",
       "       [1],\n",
       "       [1],\n",
       "       [0],\n",
       "       [0],\n",
       "       [0],\n",
       "       [1],\n",
       "       [0],\n",
       "       [1],\n",
       "       [0],\n",
       "       [1],\n",
       "       [1],\n",
       "       [1],\n",
       "       [1],\n",
       "       [0],\n",
       "       [1],\n",
       "       [0],\n",
       "       [1],\n",
       "       [0],\n",
       "       [1],\n",
       "       [1],\n",
       "       [0],\n",
       "       [0],\n",
       "       [0],\n",
       "       [1],\n",
       "       [1],\n",
       "       [0],\n",
       "       [0],\n",
       "       [1]])"
      ]
     },
     "execution_count": 48,
     "metadata": {},
     "output_type": "execute_result"
    }
   ],
   "source": [
    "hasil_prediksi2"
   ]
  },
  {
   "cell_type": "code",
   "execution_count": 49,
   "id": "ae1e9fb9-6cd2-4073-9d40-4c15f985d39e",
   "metadata": {},
   "outputs": [
    {
     "data": {
      "text/plain": [
       "array([[83,  1],\n",
       "       [ 7, 86]], dtype=int64)"
      ]
     },
     "execution_count": 49,
     "metadata": {},
     "output_type": "execute_result"
    }
   ],
   "source": [
    "# Membuat confusion matrix\n",
    "cm2 = confusion_matrix(y_test2, hasil_prediksi2)\n",
    "cm2"
   ]
  },
  {
   "cell_type": "code",
   "execution_count": 50,
   "id": "ff1c9fc8-1a9f-4f54-926f-9432c9bff131",
   "metadata": {},
   "outputs": [
    {
     "name": "stdout",
     "output_type": "stream",
     "text": [
      "              precision    recall  f1-score   support\n",
      "\n",
      "     Class 0       0.92      0.99      0.95        84\n",
      "     Class 1       0.99      0.92      0.96        93\n",
      "\n",
      "    accuracy                           0.95       177\n",
      "   macro avg       0.96      0.96      0.95       177\n",
      "weighted avg       0.96      0.95      0.95       177\n",
      "\n"
     ]
    }
   ],
   "source": [
    "# Membuat classification report\n",
    "cm2_label = pd.DataFrame(cm2, columns=np.unique(y_test2), index = np.unique(y_test2))\n",
    "cm2_label.index.name = 'Actual'\n",
    "cm2_label.columns.name = 'Predicted'\n",
    "print(classification_report(y_test2, hasil_prediksi2, target_names = target_names))"
   ]
  },
  {
   "cell_type": "code",
   "execution_count": 51,
   "id": "685b1a4b-2ba6-463c-b51c-38464232905c",
   "metadata": {},
   "outputs": [
    {
     "data": {
      "text/plain": [
       "<Axes: xlabel='Predicted', ylabel='Actual'>"
      ]
     },
     "execution_count": 51,
     "metadata": {},
     "output_type": "execute_result"
    },
    {
     "data": {
      "image/png": "[encoded data removed]",
      "text/plain": [
       "<Figure size 640x480 with 2 Axes>"
      ]
     },
     "metadata": {},
     "output_type": "display_data"
    }
   ],
   "source": [
    "# Plot confusion matrix\n",
    "sns.heatmap(cm2_label,annot=True, cmap='Reds', fmt='g')"
   ]
  },
  {
   "cell_type": "code",
   "execution_count": 52,
   "id": "77a3cb50-ffaf-4eca-b826-aa11759b9458",
   "metadata": {},
   "outputs": [
    {
     "name": "stdout",
     "output_type": "stream",
     "text": [
      "4/4 [==============================] - 0s 2ms/step\n"
     ]
    }
   ],
   "source": [
    "# Memprediksi dataset asli\n",
    "hasil_prediksi3 = (classifier2.predict(X_test_final) > 0.5).astype(int)\n",
    "\n",
    "# Membuat confusion matrix\n",
    "cm3 = confusion_matrix(y_test_final, hasil_prediksi3)\n",
    "\n",
    "# Membuat confusion matrix format tabel\n",
    "cm3_label = pd.DataFrame(cm3, columns=np.unique(y_test_final), index = np.unique(y_test_final))\n",
    "cm3_label.index.name = 'Actual'\n",
    "cm3_label.columns.name = 'Predicted'"
   ]
  },
  {
   "cell_type": "code",
   "execution_count": 53,
   "id": "a186ee1c-d9bc-46fc-98c8-a1ff84f9bf10",
   "metadata": {},
   "outputs": [
    {
     "data": {
      "text/plain": [
       "<Axes: xlabel='Predicted', ylabel='Actual'>"
      ]
     },
     "execution_count": 53,
     "metadata": {},
     "output_type": "execute_result"
    },
    {
     "data": {
      "image/png": "[encoded data removed]",
      "text/plain": [
       "<Figure size 640x480 with 2 Axes>"
      ]
     },
     "metadata": {},
     "output_type": "display_data"
    }
   ],
   "source": [
    "# Plot confusion matrix\n",
    "sns.heatmap(cm3_label,annot=True, cmap='Reds', fmt='g')"
   ]
  },
  {
   "cell_type": "code",
   "execution_count": 54,
   "id": "e6060ce0-bbf6-41a3-8105-9bf07be0e2d3",
   "metadata": {},
   "outputs": [
    {
     "name": "stdout",
     "output_type": "stream",
     "text": [
      "4/4 [==============================] - 0s 2ms/step - loss: 0.1971 - accuracy: 0.9293\n",
      "Test Accuracy : 92.93%\n"
     ]
    }
   ],
   "source": [
    "# Mengevaluasi model akhir di test set final\n",
    "evaluasi3 = classifier2.evaluate(X_test_final, y_test_final)\n",
    "print('Test Accuracy : {:.2f}%'.format(evaluasi3[1]*100))"
   ]
  },
  {
   "cell_type": "code",
   "execution_count": 55,
   "id": "24e3fc98-26db-4513-8eb9-b1b8cff39d89",
   "metadata": {},
   "outputs": [
    {
     "name": "stdout",
     "output_type": "stream",
     "text": [
      "              precision    recall  f1-score   support\n",
      "\n",
      "     Class 0       0.92      0.94      0.93        50\n",
      "     Class 1       0.94      0.92      0.93        49\n",
      "\n",
      "    accuracy                           0.93        99\n",
      "   macro avg       0.93      0.93      0.93        99\n",
      "weighted avg       0.93      0.93      0.93        99\n",
      "\n"
     ]
    }
   ],
   "source": [
    "# Membuat classification report\n",
    "jumlah_kategori = 2\n",
    "target_names = [\"Class {}\".format(i) for i in range(jumlah_kategori)]\n",
    "print(classification_report(y_test_final, hasil_prediksi3, target_names = target_names))"
   ]
  },
  {
   "cell_type": "markdown",
   "id": "424adfa9-a8d0-430e-af0c-fbf03cfdccac",
   "metadata": {},
   "source": [
    "Sekarang kita lakukan training ulang model ke dalam dataset utuh yang sudah balanced.\n",
    "\n",
    "Kita buat ulang struktur model ANN-nya"
   ]
  },
  {
   "cell_type": "code",
   "execution_count": 56,
   "id": "44ab5829-dd1f-4352-ad01-2054c1574023",
   "metadata": {},
   "outputs": [
    {
     "name": "stdout",
     "output_type": "stream",
     "text": [
      "Model: \"sequential_2\"\n",
      "_________________________________________________________________\n",
      " Layer (type)                Output Shape              Param #   \n",
      "=================================================================\n",
      " dense_10 (Dense)            (None, 16)                480       \n",
      "                                                                 \n",
      " dense_11 (Dense)            (None, 24)                408       \n",
      "                                                                 \n",
      " dropout_2 (Dropout)         (None, 24)                0         \n",
      "                                                                 \n",
      " dense_12 (Dense)            (None, 20)                500       \n",
      "                                                                 \n",
      " dense_13 (Dense)            (None, 24)                504       \n",
      "                                                                 \n",
      " dense_14 (Dense)            (None, 1)                 25        \n",
      "                                                                 \n",
      "=================================================================\n",
      "Total params: 1,917\n",
      "Trainable params: 1,917\n",
      "Non-trainable params: 0\n",
      "_________________________________________________________________\n"
     ]
    }
   ],
   "source": [
    "# Training model terhadap dataset utuh (X_res dan y_res)\n",
    "final_model = Sequential()\n",
    "final_model.add(Dense(units=16, input_dim = 29, activation='relu'))\n",
    "final_model.add(Dense(24, activation='relu'))\n",
    "final_model.add(Dropout(0.25))\n",
    "final_model.add(Dense(20, activation='relu'))\n",
    "final_model.add(Dense(24, activation='relu'))\n",
    "final_model.add(Dense(1, activation='sigmoid'))\n",
    "final_model.compile(optimizer='adam', loss='binary_crossentropy', metrics=['accuracy'])\n",
    "final_model.summary()"
   ]
  },
  {
   "cell_type": "code",
   "execution_count": 57,
   "id": "b358f44e-d4b7-4fc4-b4b5-eb586dc5d467",
   "metadata": {},
   "outputs": [
    {
     "name": "stdout",
     "output_type": "stream",
     "text": [
      "Epoch 1/5\n",
      "123/123 [==============================] - 1s 1ms/step - loss: 0.4282 - accuracy: 0.7917\n",
      "Epoch 2/5\n",
      "123/123 [==============================] - 0s 1ms/step - loss: 0.2659 - accuracy: 0.9157\n",
      "Epoch 3/5\n",
      "123/123 [==============================] - 0s 1ms/step - loss: 0.1982 - accuracy: 0.9319\n",
      "Epoch 4/5\n",
      "123/123 [==============================] - 0s 1ms/step - loss: 0.1724 - accuracy: 0.9360\n",
      "Epoch 5/5\n",
      "123/123 [==============================] - 0s 2ms/step - loss: 0.1828 - accuracy: 0.9411\n"
     ]
    }
   ],
   "source": [
    "# Fitting model ke X_res dan y_res\n",
    "run_final = final_model.fit(X_res, y_res,\n",
    "                            batch_size = 8,\n",
    "                            epochs = 5, \n",
    "                            verbose = 1)"
   ]
  },
  {
   "cell_type": "code",
   "execution_count": 58,
   "id": "832da318-29d7-4776-95eb-37ffd1830895",
   "metadata": {},
   "outputs": [
    {
     "name": "stderr",
     "output_type": "stream",
     "text": [
      "WARNING:absl:Found untraced functions such as _update_step_xla while saving (showing 1 of 1). These functions will not be directly callable after loading.\n"
     ]
    },
    {
     "name": "stdout",
     "output_type": "stream",
     "text": [
      "INFO:tensorflow:Assets written to: model_cc_fraud.hd5\\assets\n"
     ]
    },
    {
     "name": "stderr",
     "output_type": "stream",
     "text": [
      "INFO:tensorflow:Assets written to: model_cc_fraud.hd5\\assets\n"
     ]
    },
    {
     "name": "stdout",
     "output_type": "stream",
     "text": [
      "Disimpan di komputer\n"
     ]
    }
   ],
   "source": [
    "# Menyimpan model\n",
    "model_cc_fraud = final_model\n",
    "model_cc_fraud.save('model_cc_fraud.hd5', include_optimizer=True)\n",
    "print(\"Disimpan di komputer\")"
   ]
  },
  {
   "cell_type": "code",
   "execution_count": 59,
   "id": "fbdd2d06-e7fb-4c74-9fcb-7b15e9c89e06",
   "metadata": {},
   "outputs": [
    {
     "name": "stdout",
     "output_type": "stream",
     "text": [
      "Model: \"sequential_2\"\n",
      "_________________________________________________________________\n",
      " Layer (type)                Output Shape              Param #   \n",
      "=================================================================\n",
      " dense_10 (Dense)            (None, 16)                480       \n",
      "                                                                 \n",
      " dense_11 (Dense)            (None, 24)                408       \n",
      "                                                                 \n",
      " dropout_2 (Dropout)         (None, 24)                0         \n",
      "                                                                 \n",
      " dense_12 (Dense)            (None, 20)                500       \n",
      "                                                                 \n",
      " dense_13 (Dense)            (None, 24)                504       \n",
      "                                                                 \n",
      " dense_14 (Dense)            (None, 1)                 25        \n",
      "                                                                 \n",
      "=================================================================\n",
      "Total params: 1,917\n",
      "Trainable params: 1,917\n",
      "Non-trainable params: 0\n",
      "_________________________________________________________________\n"
     ]
    }
   ],
   "source": [
    "# Load model\n",
    "from keras.models import load_model\n",
    "model_saya = load_model('model_cc_fraud.hd5')\n",
    "model_saya.summary()"
   ]
  },
  {
   "cell_type": "code",
   "execution_count": 60,
   "id": "d96d61da-8cc6-4bcf-b7eb-33b3a096167a",
   "metadata": {},
   "outputs": [
    {
     "name": "stdout",
     "output_type": "stream",
     "text": [
      "4/4 [==============================] - 0s 2ms/step\n"
     ]
    },
    {
     "data": {
      "text/plain": [
       "array([[0],\n",
       "       [1],\n",
       "       [0],\n",
       "       [1],\n",
       "       [1],\n",
       "       [1],\n",
       "       [0],\n",
       "       [1],\n",
       "       [0],\n",
       "       [0],\n",
       "       [0],\n",
       "       [0],\n",
       "       [0],\n",
       "       [0],\n",
       "       [1],\n",
       "       [0],\n",
       "       [0],\n",
       "       [1],\n",
       "       [0],\n",
       "       [1],\n",
       "       [0],\n",
       "       [1],\n",
       "       [1],\n",
       "       [1],\n",
       "       [1],\n",
       "       [0],\n",
       "       [1],\n",
       "       [0],\n",
       "       [1],\n",
       "       [1],\n",
       "       [1],\n",
       "       [1],\n",
       "       [0],\n",
       "       [0],\n",
       "       [1],\n",
       "       [0],\n",
       "       [0],\n",
       "       [1],\n",
       "       [1],\n",
       "       [1],\n",
       "       [0],\n",
       "       [0],\n",
       "       [1],\n",
       "       [1],\n",
       "       [1],\n",
       "       [0],\n",
       "       [0],\n",
       "       [0],\n",
       "       [0],\n",
       "       [1],\n",
       "       [1],\n",
       "       [0],\n",
       "       [0],\n",
       "       [0],\n",
       "       [0],\n",
       "       [0],\n",
       "       [0],\n",
       "       [1],\n",
       "       [0],\n",
       "       [1],\n",
       "       [1],\n",
       "       [1],\n",
       "       [1],\n",
       "       [1],\n",
       "       [0],\n",
       "       [1],\n",
       "       [0],\n",
       "       [1],\n",
       "       [0],\n",
       "       [1],\n",
       "       [0],\n",
       "       [0],\n",
       "       [0],\n",
       "       [0],\n",
       "       [1],\n",
       "       [0],\n",
       "       [1],\n",
       "       [0],\n",
       "       [0],\n",
       "       [0],\n",
       "       [0],\n",
       "       [1],\n",
       "       [0],\n",
       "       [1],\n",
       "       [1],\n",
       "       [1],\n",
       "       [1],\n",
       "       [1],\n",
       "       [1],\n",
       "       [0],\n",
       "       [1],\n",
       "       [1],\n",
       "       [1],\n",
       "       [0],\n",
       "       [0],\n",
       "       [0],\n",
       "       [1],\n",
       "       [1],\n",
       "       [0]])"
      ]
     },
     "execution_count": 60,
     "metadata": {},
     "output_type": "execute_result"
    }
   ],
   "source": [
    "# Mencoba memprediksi test set final\n",
    "prediksi_final = (model_saya.predict(X_test_final) > 0.5).astype(int)\n",
    "\n",
    "# Melihat hasil prediksi\n",
    "prediksi_final"
   ]
  },
  {
   "cell_type": "code",
   "execution_count": 61,
   "id": "4f497c2b-5b9f-4b30-b6e6-1289b2f438b8",
   "metadata": {},
   "outputs": [
    {
     "name": "stdout",
     "output_type": "stream",
     "text": [
      "4/4 [==============================] - 0s 2ms/step\n"
     ]
    }
   ],
   "source": [
    "# Jika ingin melihat probabilitasnya\n",
    "hasil = model_saya.predict(X_test_final)"
   ]
  },
  {
   "cell_type": "code",
   "execution_count": 62,
   "id": "a1d1fbac-6970-44eb-b5ca-470844b41b7b",
   "metadata": {},
   "outputs": [
    {
     "data": {
      "text/plain": [
       "array([[0.2436074 ],\n",
       "       [0.64152384],\n",
       "       [0.06197543],\n",
       "       [0.9999986 ],\n",
       "       [0.9981408 ],\n",
       "       [0.9833777 ],\n",
       "       [0.13152042],\n",
       "       [0.5296794 ],\n",
       "       [0.01294391],\n",
       "       [0.3056126 ],\n",
       "       [0.42947218],\n",
       "       [0.00707205],\n",
       "       [0.0723703 ],\n",
       "       [0.01109757],\n",
       "       [0.73961586],\n",
       "       [0.06270002],\n",
       "       [0.02827921],\n",
       "       [0.9999991 ],\n",
       "       [0.04990763],\n",
       "       [0.9999967 ],\n",
       "       [0.03172225],\n",
       "       [0.99543035],\n",
       "       [0.99996054],\n",
       "       [0.9812882 ],\n",
       "       [0.9995008 ],\n",
       "       [0.04040226],\n",
       "       [0.9986206 ],\n",
       "       [0.11844709],\n",
       "       [0.77598745],\n",
       "       [1.        ],\n",
       "       [0.9997862 ],\n",
       "       [0.99974954],\n",
       "       [0.01588999],\n",
       "       [0.06665928],\n",
       "       [0.997926  ],\n",
       "       [0.01835267],\n",
       "       [0.01065738],\n",
       "       [0.99789447],\n",
       "       [0.98398423],\n",
       "       [0.86975837],\n",
       "       [0.09613615],\n",
       "       [0.03148592],\n",
       "       [0.9998254 ],\n",
       "       [1.        ],\n",
       "       [0.9999897 ],\n",
       "       [0.01366066],\n",
       "       [0.3782251 ],\n",
       "       [0.28092802],\n",
       "       [0.02167285],\n",
       "       [0.9999971 ],\n",
       "       [0.9999993 ],\n",
       "       [0.0081814 ],\n",
       "       [0.08785242],\n",
       "       [0.09448326],\n",
       "       [0.03931509],\n",
       "       [0.03909821],\n",
       "       [0.27977553],\n",
       "       [0.99987054],\n",
       "       [0.17132273],\n",
       "       [0.75372183],\n",
       "       [0.99999744],\n",
       "       [0.9994737 ],\n",
       "       [0.6714748 ],\n",
       "       [0.9999979 ],\n",
       "       [0.07291985],\n",
       "       [0.9967076 ],\n",
       "       [0.03346317],\n",
       "       [1.        ],\n",
       "       [0.02515153],\n",
       "       [0.99513197],\n",
       "       [0.03901379],\n",
       "       [0.01098323],\n",
       "       [0.06354573],\n",
       "       [0.1823806 ],\n",
       "       [0.9862392 ],\n",
       "       [0.33874658],\n",
       "       [0.9997732 ],\n",
       "       [0.35055175],\n",
       "       [0.00673265],\n",
       "       [0.0364627 ],\n",
       "       [0.03859555],\n",
       "       [0.9991096 ],\n",
       "       [0.22185728],\n",
       "       [0.9992979 ],\n",
       "       [0.9999969 ],\n",
       "       [0.9597996 ],\n",
       "       [0.9999714 ],\n",
       "       [0.99971175],\n",
       "       [1.        ],\n",
       "       [0.07233183],\n",
       "       [1.        ],\n",
       "       [0.9961783 ],\n",
       "       [0.9998206 ],\n",
       "       [0.0430865 ],\n",
       "       [0.00516899],\n",
       "       [0.05848028],\n",
       "       [0.76495045],\n",
       "       [0.6728037 ],\n",
       "       [0.11832453]], dtype=float32)"
      ]
     },
     "execution_count": 62,
     "metadata": {},
     "output_type": "execute_result"
    }
   ],
   "source": [
    "# Melihat hasil\n",
    "hasil"
   ]
  },
  {
   "cell_type": "code",
   "execution_count": 63,
   "id": "e8ef6a50-e215-45fa-9993-88d8c89f6ed4",
   "metadata": {},
   "outputs": [],
   "source": [
    "cm_final = confusion_matrix(y_test_final, prediksi_final)"
   ]
  },
  {
   "cell_type": "code",
   "execution_count": 64,
   "id": "9e0ce600-4732-438c-bc22-81c3eadf8cbb",
   "metadata": {},
   "outputs": [
    {
     "data": {
      "text/plain": [
       "array([[47,  3],\n",
       "       [ 3, 46]], dtype=int64)"
      ]
     },
     "execution_count": 64,
     "metadata": {},
     "output_type": "execute_result"
    }
   ],
   "source": [
    "cm_final"
   ]
  }
 ],
 "metadata": {
  "kernelspec": {
   "display_name": "Python 3 (ipykernel)",
   "language": "python",
   "name": "python3"
  },
  "language_info": {
   "codemirror_mode": {
    "name": "ipython",
    "version": 3
   },
   "file_extension": ".py",
   "mimetype": "text/x-python",
   "name": "python",
   "nbconvert_exporter": "python",
   "pygments_lexer": "ipython3",
   "version": "3.11.8"
  }
 },
 "nbformat": 4,
 "nbformat_minor": 5
}
